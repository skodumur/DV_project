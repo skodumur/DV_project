{
 "cells": [
  {
   "cell_type": "markdown",
   "metadata": {},
   "source": [
    "## Data Preprocessing ##"
   ]
  },
  {
   "cell_type": "code",
   "execution_count": 1,
   "metadata": {},
   "outputs": [],
   "source": [
    "import pandas as pd \n",
    "import json\n",
    "import csv"
   ]
  },
  {
   "cell_type": "code",
   "execution_count": 2,
   "metadata": {},
   "outputs": [
    {
     "data": {
      "text/html": [
       "<div>\n",
       "<style scoped>\n",
       "    .dataframe tbody tr th:only-of-type {\n",
       "        vertical-align: middle;\n",
       "    }\n",
       "\n",
       "    .dataframe tbody tr th {\n",
       "        vertical-align: top;\n",
       "    }\n",
       "\n",
       "    .dataframe thead th {\n",
       "        text-align: right;\n",
       "    }\n",
       "</style>\n",
       "<table border=\"1\" class=\"dataframe\">\n",
       "  <thead>\n",
       "    <tr style=\"text-align: right;\">\n",
       "      <th></th>\n",
       "      <th>SessionID</th>\n",
       "      <th>TimeStamp</th>\n",
       "      <th>IP</th>\n",
       "      <th>Website</th>\n",
       "      <th>Product</th>\n",
       "      <th>URL_ID</th>\n",
       "      <th>MAC</th>\n",
       "      <th>Gender</th>\n",
       "      <th>Date of Birth</th>\n",
       "      <th>Source Website</th>\n",
       "      <th>Source TimeStamp</th>\n",
       "      <th>Browser</th>\n",
       "      <th>City</th>\n",
       "      <th>Country</th>\n",
       "      <th>State</th>\n",
       "    </tr>\n",
       "  </thead>\n",
       "  <tbody>\n",
       "    <tr>\n",
       "      <th>0</th>\n",
       "      <td>1331799426</td>\n",
       "      <td>15-03-2012 01:17</td>\n",
       "      <td>99.122.210.248</td>\n",
       "      <td>http://www.acme.com/SH55126545/VD55170364</td>\n",
       "      <td>home&amp;garden</td>\n",
       "      <td>6</td>\n",
       "      <td>{7AAB8415-E803-3C5D-7100-E362D7F67CA7}</td>\n",
       "      <td>NaN</td>\n",
       "      <td>NaN</td>\n",
       "      <td>sbcglobal.net</td>\n",
       "      <td>15-02-2012 04:16</td>\n",
       "      <td>Firefox</td>\n",
       "      <td>homestead</td>\n",
       "      <td>usa</td>\n",
       "      <td>fl</td>\n",
       "    </tr>\n",
       "    <tr>\n",
       "      <th>1</th>\n",
       "      <td>1331800486</td>\n",
       "      <td>15-03-2012 01:34</td>\n",
       "      <td>69.76.12.213</td>\n",
       "      <td>http://www.acme.com/SH55126545/VD55177927</td>\n",
       "      <td>clothing</td>\n",
       "      <td>8</td>\n",
       "      <td>{8D0E437E-9249-4DDA-BC4F-C1E5409E3A3B}</td>\n",
       "      <td>F</td>\n",
       "      <td>14 November 1981</td>\n",
       "      <td>rr.com</td>\n",
       "      <td>15-02-2012 01:07</td>\n",
       "      <td>Firefox</td>\n",
       "      <td>coeur d alene</td>\n",
       "      <td>usa</td>\n",
       "      <td>id</td>\n",
       "    </tr>\n",
       "    <tr>\n",
       "      <th>2</th>\n",
       "      <td>1331857433</td>\n",
       "      <td>15-03-2012 17:23</td>\n",
       "      <td>67.240.15.94</td>\n",
       "      <td>http://www.acme.com/SH55126545/VD55166807</td>\n",
       "      <td>computers</td>\n",
       "      <td>5</td>\n",
       "      <td>{E3FEBA62-CABA-11D4-820E-00A0C9E58E2D}</td>\n",
       "      <td>M</td>\n",
       "      <td>28 April 1982</td>\n",
       "      <td>rr.com</td>\n",
       "      <td>15-02-2012 19:11</td>\n",
       "      <td>Safari</td>\n",
       "      <td>queensbury</td>\n",
       "      <td>usa</td>\n",
       "      <td>ny</td>\n",
       "    </tr>\n",
       "    <tr>\n",
       "      <th>3</th>\n",
       "      <td>1331800073</td>\n",
       "      <td>15-03-2012 01:27</td>\n",
       "      <td>98.234.107.75</td>\n",
       "      <td>http://www.acme.com/SH55126545/VD55179433</td>\n",
       "      <td>shoes</td>\n",
       "      <td>9</td>\n",
       "      <td>{49E0D2EE-1D57-48C5-A27D-7660C78CB55C}</td>\n",
       "      <td>M</td>\n",
       "      <td>17 January 1996</td>\n",
       "      <td>comcast.net</td>\n",
       "      <td>15-02-2012 00:32</td>\n",
       "      <td>Safari</td>\n",
       "      <td>sunnyvale</td>\n",
       "      <td>usa</td>\n",
       "      <td>ca</td>\n",
       "    </tr>\n",
       "    <tr>\n",
       "      <th>4</th>\n",
       "      <td>1331802578</td>\n",
       "      <td>15-03-2012 02:09</td>\n",
       "      <td>75.85.165.38</td>\n",
       "      <td>http://www.acme.com/SH55126545/VD55179433</td>\n",
       "      <td>shoes</td>\n",
       "      <td>9</td>\n",
       "      <td>{F6F8B460-4204-4C26-A32C-B93826EDCB99}</td>\n",
       "      <td>F</td>\n",
       "      <td>10 June 1989</td>\n",
       "      <td>rr.com</td>\n",
       "      <td>15-02-2012 00:52</td>\n",
       "      <td>Safari</td>\n",
       "      <td>san diego</td>\n",
       "      <td>usa</td>\n",
       "      <td>ca</td>\n",
       "    </tr>\n",
       "  </tbody>\n",
       "</table>\n",
       "</div>"
      ],
      "text/plain": [
       "    SessionID         TimeStamp              IP  \\\n",
       "0  1331799426  15-03-2012 01:17  99.122.210.248   \n",
       "1  1331800486  15-03-2012 01:34    69.76.12.213   \n",
       "2  1331857433  15-03-2012 17:23    67.240.15.94   \n",
       "3  1331800073  15-03-2012 01:27   98.234.107.75   \n",
       "4  1331802578  15-03-2012 02:09    75.85.165.38   \n",
       "\n",
       "                                     Website      Product  URL_ID  \\\n",
       "0  http://www.acme.com/SH55126545/VD55170364  home&garden       6   \n",
       "1  http://www.acme.com/SH55126545/VD55177927     clothing       8   \n",
       "2  http://www.acme.com/SH55126545/VD55166807    computers       5   \n",
       "3  http://www.acme.com/SH55126545/VD55179433        shoes       9   \n",
       "4  http://www.acme.com/SH55126545/VD55179433        shoes       9   \n",
       "\n",
       "                                      MAC Gender     Date of Birth  \\\n",
       "0  {7AAB8415-E803-3C5D-7100-E362D7F67CA7}    NaN               NaN   \n",
       "1  {8D0E437E-9249-4DDA-BC4F-C1E5409E3A3B}      F  14 November 1981   \n",
       "2  {E3FEBA62-CABA-11D4-820E-00A0C9E58E2D}      M     28 April 1982   \n",
       "3  {49E0D2EE-1D57-48C5-A27D-7660C78CB55C}      M   17 January 1996   \n",
       "4  {F6F8B460-4204-4C26-A32C-B93826EDCB99}      F      10 June 1989   \n",
       "\n",
       "  Source Website  Source TimeStamp  Browser           City Country State  \n",
       "0  sbcglobal.net  15-02-2012 04:16  Firefox      homestead     usa    fl  \n",
       "1         rr.com  15-02-2012 01:07  Firefox  coeur d alene     usa    id  \n",
       "2         rr.com  15-02-2012 19:11   Safari     queensbury     usa    ny  \n",
       "3    comcast.net  15-02-2012 00:32   Safari      sunnyvale     usa    ca  \n",
       "4         rr.com  15-02-2012 00:52   Safari      san diego     usa    ca  "
      ]
     },
     "execution_count": 2,
     "metadata": {},
     "output_type": "execute_result"
    }
   ],
   "source": [
    "data = pd.read_csv(\"data.csv\")\n",
    "data.head()"
   ]
  },
  {
   "cell_type": "code",
   "execution_count": 3,
   "metadata": {},
   "outputs": [
    {
     "data": {
      "text/plain": [
       "'F6F8B460-4204-4C26-A32C-B93826EDCB99'"
      ]
     },
     "execution_count": 3,
     "metadata": {},
     "output_type": "execute_result"
    }
   ],
   "source": [
    "s = \"{F6F8B460-4204-4C26-A32C-B93826EDCB99}\"\n",
    "s[1: -1]"
   ]
  },
  {
   "cell_type": "code",
   "execution_count": 4,
   "metadata": {},
   "outputs": [],
   "source": [
    "session = {}\n",
    "products = {}\n",
    "browserInfo = {}\n",
    "locationInfo ={}\n",
    "for index, row in data.iterrows():\n",
    "    if(row['MAC'][1:-1] in session.keys()):\n",
    "        session[row['MAC'][1:-1]].append(row['URL_ID'])\n",
    "        browserInfo[row['MAC'][1:-1]].append(row['Browser'])\n",
    "        locationInfo[row['MAC'][1:-1]].append(row['Country'])\n",
    "    else:\n",
    "        session[row['MAC'][1:-1]] = [row['URL_ID']]\n",
    "        browserInfo[row['MAC'][1:-1]] = [row['Browser']]\n",
    "        locationInfo[row['MAC'][1:-1]] = [row['Country']]\n",
    "    if(row['URL_ID'] not in products.keys()):\n",
    "        products[row['URL_ID']] = [row[\"Product\"], row[\"Website\"]]"
   ]
  },
  {
   "cell_type": "code",
   "execution_count": 5,
   "metadata": {},
   "outputs": [
    {
     "name": "stdout",
     "output_type": "stream",
     "text": [
      "12348\n",
      "10893\n",
      "2638\n",
      "2638\n",
      "2638\n"
     ]
    }
   ],
   "source": [
    "def save_dict_to_file(dic, file):\n",
    "    f = open(file,'w')\n",
    "    f.write(str(dic))\n",
    "    f.close()\n",
    "# save_dict_to_file(session, \"dict.txt\")\n",
    "print(len(session))\n",
    "final_dict = {key: session[key] for key in session if len(session[key])!=1}\n",
    "final_browserInfo = {key: browserInfo[key] for key in session if len(session[key])!=1}\n",
    "final_locationInfo = {key: locationInfo[key] for key in session if len(session[key])!=1}\n",
    "print(len(final_dict))\n",
    "key_to_value_lengths = {k:v for k, v in final_dict.items() if v.count(v[0])==len(v)}\n",
    "for i in key_to_value_lengths.keys():\n",
    "    del final_dict[i]\n",
    "    del final_browserInfo[i]\n",
    "    del final_locationInfo[i]\n",
    "print(len(final_dict))\n",
    "print(len(final_browserInfo))\n",
    "print(len(final_locationInfo))"
   ]
  },
  {
   "cell_type": "code",
   "execution_count": 21,
   "metadata": {},
   "outputs": [
    {
     "name": "stdout",
     "output_type": "stream",
     "text": [
      "2638\n"
     ]
    }
   ],
   "source": [
    "sessions = list(final_dict.values())\n",
    "browsers = list(final_browserInfo.values())\n",
    "print(len(browsers))\n",
    "locations = list(final_locationInfo.values())\n",
    "\n",
    "sessionremoved = list(key_to_value_lengths.values())\n",
    "\n",
    "import  csv\n",
    "with open(\"dict_new.txt\",\"w\") as f:\n",
    "    wr = csv.writer(f)\n",
    "    wr.writerows(sessions)\n",
    "    \n",
    "with open(\"dict_removed.txt\",\"w\") as f:\n",
    "    wr = csv.writer(f)\n",
    "    wr.writerows(sessionremoved)\n",
    "# save_dict_to_file(final_dict, \"dict_new.txt\")\n",
    "\n",
    "readd = open(\"dict_new.txt\", \"r\")\n",
    "contents = readd.read()\n",
    "contentsnew = contents.replace(\",\", \" \")\n",
    "contentsnew = contentsnew.replace(\"\\n\\n\", \" -1 -2\\n\")\n",
    "newfile = open(\"save_dict.txt\", \"w\")\n",
    "newfile.write(contentsnew)\n",
    "newfile.close()\n"
   ]
  },
  {
   "cell_type": "markdown",
   "metadata": {},
   "source": [
    "## Pattern View Data ##"
   ]
  },
  {
   "cell_type": "code",
   "execution_count": 23,
   "metadata": {},
   "outputs": [
    {
     "name": "stdout",
     "output_type": "stream",
     "text": [
      "27 9 8 8 8 8 9 9 9 9 -1 -2\n",
      "\n"
     ]
    }
   ],
   "source": [
    "with open(\"op4.txt\", \"r\") as f:\n",
    "    op4Content = f.readlines() \n",
    "with open(\"save_dict.txt\", \"r\") as clicksfile:\n",
    "    clicksdata = clicksfile.readlines()\n",
    "print(clicksdata[2070])\n",
    "with open(\"op1.txt\") as op1:\n",
    "    op1Content = op1.readlines()\n",
    "with open(\"op2.txt\") as op2:\n",
    "    op2Content = op2.readlines()\n",
    "with open(\"op3.txt\") as op3:\n",
    "    op3Content = op3.readlines()"
   ]
  },
  {
   "cell_type": "code",
   "execution_count": 25,
   "metadata": {},
   "outputs": [
    {
     "name": "stdout",
     "output_type": "stream",
     "text": [
      "[[{'id': '8', 'label': 'clothing', 'value': 3, 'width': 1965, 'backgroundColor': '#898d8f'}, {'id': '27', 'label': 'handbags', 'value': 7, 'width': 105, 'backgroundColor': '#898d8f'}, {'id': -1, 'label': 'last', 'value': 13, 'width': 105, 'backgroundColor': '#898d8f'}], [{'id': '4', 'label': 'electronics', 'value': 15, 'width': 286, 'backgroundColor': '#898d8f'}, {'id': '9', 'label': 'shoes', 'value': 19, 'width': 63, 'backgroundColor': '#898d8f'}, {'id': -1, 'label': 'last', 'value': 38, 'width': 63, 'backgroundColor': '#898d8f'}], [{'id': '2', 'label': 'movies', 'value': 13, 'width': 245, 'backgroundColor': '#898d8f'}, {'id': '9', 'label': 'shoes', 'value': 12, 'width': 74, 'backgroundColor': '#898d8f'}, {'id': -1, 'label': 'last', 'value': 27, 'width': 74, 'backgroundColor': '#898d8f'}], [{'id': '3', 'label': 'games', 'value': 13, 'width': 109, 'backgroundColor': '#898d8f'}, {'id': '4', 'label': 'electronics', 'value': 10, 'width': 66, 'backgroundColor': '#898d8f'}, {'id': -1, 'label': 'last', 'value': 42, 'width': 66, 'backgroundColor': '#898d8f'}], [{'id': '5', 'label': 'computers', 'value': 15, 'width': 384, 'backgroundColor': '#898d8f'}, {'id': '8', 'label': 'clothing', 'value': 12, 'width': 158, 'backgroundColor': '#898d8f'}, {'id': '9', 'label': 'shoes', 'value': 16, 'width': 55, 'backgroundColor': '#898d8f'}, {'id': -1, 'label': 'last', 'value': 41, 'width': 55, 'backgroundColor': '#898d8f'}], [{'id': '2', 'label': 'movies', 'value': 17, 'width': 245, 'backgroundColor': '#898d8f'}, {'id': '7', 'label': 'handbags', 'value': 14, 'width': 98, 'backgroundColor': '#898d8f'}, {'id': '8', 'label': 'clothing', 'value': 11, 'width': 60, 'backgroundColor': '#898d8f'}, {'id': -1, 'label': 'last', 'value': 45, 'width': 60, 'backgroundColor': '#898d8f'}], [{'id': '2', 'label': 'movies', 'value': 16, 'width': 245, 'backgroundColor': '#898d8f'}, {'id': '4', 'label': 'electronics', 'value': 11, 'width': 108, 'backgroundColor': '#898d8f'}, {'id': '7', 'label': 'handbags', 'value': 19, 'width': 53, 'backgroundColor': '#898d8f'}, {'id': -1, 'label': 'last', 'value': 44, 'width': 53, 'backgroundColor': '#898d8f'}], [{'id': '2', 'label': 'movies', 'value': 16, 'width': 245, 'backgroundColor': '#898d8f'}, {'id': '4', 'label': 'electronics', 'value': 10, 'width': 108, 'backgroundColor': '#898d8f'}, {'id': '5', 'label': 'computers', 'value': 12, 'width': 58, 'backgroundColor': '#898d8f'}, {'id': -1, 'label': 'last', 'value': 44, 'width': 58, 'backgroundColor': '#898d8f'}], [{'id': '6', 'label': 'home&garden', 'value': 11, 'width': 599, 'backgroundColor': '#898d8f'}, {'id': '7', 'label': 'handbags', 'value': 9, 'width': 456, 'backgroundColor': '#898d8f'}, {'id': '8', 'label': 'clothing', 'value': 9, 'width': 222, 'backgroundColor': '#898d8f'}, {'id': '9', 'label': 'shoes', 'value': 14, 'width': 73, 'backgroundColor': '#898d8f'}, {'id': -1, 'label': 'last', 'value': 39, 'width': 73, 'backgroundColor': '#898d8f'}], [{'id': '5', 'label': 'computers', 'value': 15, 'width': 384, 'backgroundColor': '#898d8f'}, {'id': '6', 'label': 'home&garden', 'value': 10, 'width': 278, 'backgroundColor': '#898d8f'}, {'id': '7', 'label': 'handbags', 'value': 10, 'width': 215, 'backgroundColor': '#898d8f'}, {'id': '9', 'label': 'shoes', 'value': 18, 'width': 56, 'backgroundColor': '#898d8f'}, {'id': -1, 'label': 'last', 'value': 44, 'width': 56, 'backgroundColor': '#898d8f'}], [{'id': '5', 'label': 'computers', 'value': 15, 'width': 384, 'backgroundColor': '#898d8f'}, {'id': '6', 'label': 'home&garden', 'value': 10, 'width': 278, 'backgroundColor': '#898d8f'}, {'id': '7', 'label': 'handbags', 'value': 10, 'width': 215, 'backgroundColor': '#898d8f'}, {'id': '8', 'label': 'clothing', 'value': 11, 'width': 109, 'backgroundColor': '#898d8f'}, {'id': -1, 'label': 'last', 'value': 45, 'width': 109, 'backgroundColor': '#898d8f'}], [{'id': '4', 'label': 'electronics', 'value': 17, 'width': 286, 'backgroundColor': '#898d8f'}, {'id': '6', 'label': 'home&garden', 'value': 14, 'width': 161, 'backgroundColor': '#898d8f'}, {'id': '7', 'label': 'handbags', 'value': 12, 'width': 127, 'backgroundColor': '#898d8f'}, {'id': '8', 'label': 'clothing', 'value': 13, 'width': 72, 'backgroundColor': '#898d8f'}, {'id': -1, 'label': 'last', 'value': 51, 'width': 72, 'backgroundColor': '#898d8f'}], [{'id': '4', 'label': 'electronics', 'value': 17, 'width': 286, 'backgroundColor': '#898d8f'}, {'id': '5', 'label': 'computers', 'value': 11, 'width': 176, 'backgroundColor': '#898d8f'}, {'id': '7', 'label': 'handbags', 'value': 17, 'width': 116, 'backgroundColor': '#898d8f'}, {'id': '8', 'label': 'clothing', 'value': 13, 'width': 67, 'backgroundColor': '#898d8f'}, {'id': -1, 'label': 'last', 'value': 51, 'width': 67, 'backgroundColor': '#898d8f'}], [{'id': '4', 'label': 'electronics', 'value': 17, 'width': 286, 'backgroundColor': '#898d8f'}, {'id': '5', 'label': 'computers', 'value': 12, 'width': 176, 'backgroundColor': '#898d8f'}, {'id': '6', 'label': 'home&garden', 'value': 13, 'width': 131, 'backgroundColor': '#898d8f'}, {'id': '8', 'label': 'clothing', 'value': 16, 'width': 64, 'backgroundColor': '#898d8f'}, {'id': -1, 'label': 'last', 'value': 50, 'width': 64, 'backgroundColor': '#898d8f'}], [{'id': '4', 'label': 'electronics', 'value': 15, 'width': 286, 'backgroundColor': '#898d8f'}, {'id': '5', 'label': 'computers', 'value': 12, 'width': 176, 'backgroundColor': '#898d8f'}, {'id': '6', 'label': 'home&garden', 'value': 13, 'width': 131, 'backgroundColor': '#898d8f'}, {'id': '7', 'label': 'handbags', 'value': 13, 'width': 106, 'backgroundColor': '#898d8f'}, {'id': -1, 'label': 'last', 'value': 42, 'width': 106, 'backgroundColor': '#898d8f'}], [{'id': '2', 'label': 'movies', 'value': 17, 'width': 245, 'backgroundColor': '#898d8f'}, {'id': '5', 'label': 'computers', 'value': 16, 'width': 103, 'backgroundColor': '#898d8f'}, {'id': '6', 'label': 'home&garden', 'value': 11, 'width': 69, 'backgroundColor': '#898d8f'}, {'id': '7', 'label': 'handbags', 'value': 13, 'width': 57, 'backgroundColor': '#898d8f'}, {'id': -1, 'label': 'last', 'value': 44, 'width': 57, 'backgroundColor': '#898d8f'}]]\n"
     ]
    }
   ],
   "source": [
    "finalPatterns = []\n",
    "for sLine in op4Content:\n",
    "    result = sLine.split(\"-1\")\n",
    "    patternStr = result[0]\n",
    "    supportIndex = result[1]\n",
    "    s = \"\"\n",
    "    lastStr = \"-1 #SUP: \"\n",
    "    pattern = patternStr.strip().split(\" \")\n",
    "    patternList = []\n",
    "    if(len(pattern)>1):\n",
    "        for i in range(0,len(pattern)):\n",
    "            if pattern[i]!=\" \":\n",
    "                s = pattern[i] if s==\"\" else s + \" \" + pattern[i]\n",
    "                stringToBeFound = s + \" \" + lastStr\n",
    "                matching = [x for x in eval(\"op\"+str(i+1)+\"Content\") if x.startswith(stringToBeFound)]\n",
    "\n",
    "                ## Width\n",
    "                if(i==0):\n",
    "                    support = int(matching[0].split(\":\")[1])\n",
    "                else:\n",
    "                    support = int(matching[0].split(\":\")[1].split(\" #\")[0])\n",
    "\n",
    "                ## height\n",
    "                averageclicks = 0 \n",
    "                clickpages = sLine.strip().split(\": \")[2].split(\" \")\n",
    "                for k in clickpages:\n",
    "                    clickstring = clicksdata[int(k)].strip().split(\" \")\n",
    "                    if(i>0 and pattern[i] in clickstring[clickstring.index(pattern[i-1]):]):\n",
    "                        value = clickstring[clickstring.index(pattern[i-1]):].index(pattern[i])+1\n",
    "                    else:\n",
    "                        value = clickstring.index(pattern[i])+1\n",
    "                    averageclicks = averageclicks+ value\n",
    "                averageclicks = averageclicks/len(clickpages)\n",
    "                supportsdict = {\"id\": pattern[i], \"label\": products[int(pattern[i])][0], \"value\": int(averageclicks), \"width\": support, \"backgroundColor\":\"#898d8f\"}\n",
    "                patternList.append(supportsdict)\n",
    "        clickpages = sLine.split(\": \")[2].split(\" \")\n",
    "        averageclicks = 0\n",
    "        for k in clickpages:\n",
    "            clickstring = clicksdata[int(k)].split(\" \")\n",
    "            value = len(clickstring)-clickstring.index(pattern[len(pattern)-1])\n",
    "            averageclicks = averageclicks+ value\n",
    "        averageclicks = averageclicks/len(clickpages)\n",
    "        supportsdict = {\"id\": -1, \"label\": \"last\", \"value\": int(averageclicks), \"width\": support, \"backgroundColor\":\"#898d8f\"}\n",
    "        patternList.append(supportsdict)\n",
    "        finalPatterns.append(patternList)    \n",
    "# newList = [finalPatterns]\n",
    "print(finalPatterns)\n",
    "\n",
    "with open(\"patterns.json\", \"w\") as patternFile:\n",
    "    for item in finalPatterns:\n",
    "        patternFile.write(\"%s\\n\" % item)\n",
    "     "
   ]
  },
  {
   "cell_type": "code",
   "execution_count": 28,
   "metadata": {},
   "outputs": [],
   "source": [
    "# finalList = []\n",
    "# for s in contents:\n",
    "#     result = s.split(\"-1\")\n",
    "#     pattern = result[0]\n",
    "#     support = result[1]\n",
    "#     s = \"\"\n",
    "#     lastStr = \"-1 #SUP: \"\n",
    "#     pattern = pattern.strip().split(\" \")\n",
    "#     patternList = []\n",
    "#     with open(\"save_dict.txt\", \"r\") as clicksfile:\n",
    "#         clicksdata = clicksfile.readlines()\n",
    "#     for i in range(0,len(pattern)):\n",
    "#         if pattern[i]!=\" \":\n",
    "#             s = pattern[i] if s==\"\" else s + \" \" + pattern[i]\n",
    "#             with open(\"op\"+str(i+1)+\".txt\", \"r\") as file:\n",
    "#                 superfile = file.readlines()\n",
    "#             stringToBeFound = s+\" \"\n",
    "#             stringToBeFound = stringToBeFound + lastStr\n",
    "#             matching = [x for x in superfile if x.startswith(stringToBeFound)]\n",
    "#             averageclicks = 0\n",
    "#             if i==0:\n",
    "#                 supports = int(matching[0].split(\":\")[1])\n",
    "                 \n",
    "#             else:\n",
    "#                 supports = int(matching[0].split(\"#\")[1].split(\":\")[1])\n",
    "#                 indexlist = matching[0].split(\"#\")[2]\n",
    "#                 clickpages = indexlist.split(\":\")[1].split(\" \")[1:]\n",
    "#                 for k in clickpages:\n",
    "#                     clickstring = clicksdata[int(k)].replace(\" \",\"\")\n",
    "#                     value = clickstring[clickstring.find(pattern[i-1]):].find(pattern[i])\n",
    "#                     print(\"===================================\")\n",
    "#                     averageclicks = averageclicks+ value\n",
    "#                     print(value)\n",
    "#                 averageclicks = averageclicks/len(clickpages)\n",
    "#             supportsdict = {\"id\": pattern[i], \"label\": products[int(pattern[i])][0], \"value\": int(averageclicks), \"width\": supports, \"backgroundColor\":\"#898d8f\"}\n",
    "#             patternList.append(supportsdict)\n",
    "#     finalList.append(patternList)\n",
    "\n",
    "# # for i in finalList:\n",
    "# #     if(len(i)>1):\n",
    "# #         for j in range(1,len(i)):\n",
    "# #             i[j-1][\"value\"] = i[j][\"value\"]\n",
    "# #         i[j][\"value\"] = 0\n",
    "\n",
    "\n",
    "# ind2remove = [i for i in range(len(finalList)) if len(finalList[i])==1]\n",
    "# print(ind2remove)\n",
    "# for i in sorted(ind2remove, reverse=True): \n",
    "#     del finalList[i]\n",
    "# print(len(finalList))\n",
    "# print(\"=================Final json=======================\")\n",
    "# newList = [finalList] \n",
    "# with open(\"patterns.json\", \"w\") as patternFile:\n",
    "#     for item in newList:\n",
    "#         patternFile.write(\"%s\\n\" % item)"
   ]
  },
  {
   "cell_type": "markdown",
   "metadata": {},
   "source": [
    "## Sequence View Data ##"
   ]
  },
  {
   "cell_type": "code",
   "execution_count": 30,
   "metadata": {},
   "outputs": [],
   "source": [
    "with open(\"op4.txt\", \"r\") as f:\n",
    "    contents = f.readlines()"
   ]
  },
  {
   "cell_type": "code",
   "execution_count": 32,
   "metadata": {},
   "outputs": [],
   "source": [
    "## Check if the pattern exists in the sequence\n",
    "def shouldInclude(pattern, sequence):\n",
    "    pattern = pattern.strip().split(\" \")[:-1]\n",
    "    for i in pattern:\n",
    "        if(i in sequence):\n",
    "            sequence = sequence[sequence.index(i):]\n",
    "        else:\n",
    "            return False\n",
    "    return True"
   ]
  },
  {
   "cell_type": "code",
   "execution_count": 36,
   "metadata": {},
   "outputs": [
    {
     "name": "stdout",
     "output_type": "stream",
     "text": [
      "2638\n",
      "____________________________________\n",
      "2638\n",
      "2638\n",
      "2638\n",
      "____________________________________\n",
      "2638\n"
     ]
    }
   ],
   "source": [
    "print(len(clicksdata))\n",
    "print(\"____________________________________\")\n",
    "print(len(browsers))\n",
    "print(len(locations))\n",
    "\n",
    "with open(\"op4.txt\", \"r\") as file:\n",
    "    sequenceFile = file.readlines()\n",
    "with open(\"save_dict.txt\", \"r\") as clicksfile:\n",
    "    clicksdata = clicksfile.readlines()\n",
    "for a in range(len(finalPatterns)):\n",
    "    s = \"\"\n",
    "    sequenceList = []\n",
    "    for i in finalPatterns[a]:\n",
    "        s = s + \" \" + str(i[\"id\"])\n",
    "    sequences = [x for x in sequenceFile if s.strip() in x][0].split(\": \")[2].split(\" \")\n",
    "    sequences = [int(x) for x in sequences]\n",
    "    patterns = [clicksdata[i] for i in range(len(clicksdata)) if i in sequences]\n",
    "    browsersReq = [browsers[i] for i in range(len(clicksdata)) if i in sequences]\n",
    "    locationsReq = [locations[i] for i in range(len(clicksdata)) if i in sequences]\n",
    "    for i in range(len(patterns)):\n",
    "        temp = patterns[i][:-7].split(\" \")\n",
    "        if(shouldInclude(s, temp)):\n",
    "            tempList = []\n",
    "            for j in temp:\n",
    "                tempList.append(products[int(j)][1])\n",
    "            sequenceList.append({\"sequences\": tempList, \"Browser\": browsersReq[i][0], \"Location\": locationsReq[i][0]})\n",
    "            \n",
    "#     tempDictNew = {}\n",
    "#     for item in sequenceList:\n",
    "#         tempDictNew[len(item)] = sequenceList.count(item)\n",
    "#     print(tempDictNew)\n",
    "    sequenceDict = {}\n",
    "    sequenceDict['urls'] = sequenceList\n",
    "    with open(\"sequences\"+ str(a) + \".json\", \"w\") as sequenceFile1:\n",
    "        sequenceFile1.write(json.dumps(sequenceDict))    \n",
    "    visitorDict = {}\n",
    "    addedKeys = {}\n",
    "    seqno = 1\n",
    "    for i in range(len(sequenceDict['urls'])):\n",
    "        seq = sequenceDict['urls'][i][\"sequences\"]\n",
    "        if(\"\".join(seq) not in addedKeys.keys()):\n",
    "            tempSequences = [d['sequences'] for d in sequenceDict['urls']]\n",
    "            visitorDict[\"sequence\" + str(seqno)] = [tempSequences.count(seq), sequenceDict[\"urls\"][i][\"Browser\"], sequenceDict[\"urls\"][i][\"Location\"]] \n",
    "            addedKeys[\"\".join(seq)] = seqno\n",
    "            seqno = seqno + 1\n",
    "#         else:\n",
    "#             visitorDict[\"sequence\" + str(addedKeys[\"\".join(seq)])] = visitorDict[\"sequence\" + str(addedKeys[\"\".join(seq)])]+1\n",
    "    ## Creating visitor count file\n",
    "    with open('vistorCount'+str(a)+\".csv\", 'w') as f: \n",
    "        f.write(\"%s,%s,%s,%s\\n\"%(\"sequence\",\"count\", \"Browser\", \"Location\"))\n",
    "        for key in visitorDict.keys():\n",
    "            f.write(\"%s,%s,%s,%s\\n\"%(key,visitorDict[key][0],visitorDict[key][1], visitorDict[key][2] ))\n",
    "\n",
    "print(len(clicksdata))\n",
    "print(\"____________________________________\")\n",
    "print(len(browsers))"
   ]
  },
  {
   "cell_type": "code",
   "execution_count": 13,
   "metadata": {},
   "outputs": [],
   "source": [
    "a = ['http://www.acme.com/SH55126545/VD55165149', 'http://www.acme.com/SH55126545/VD55149415', 'http://www.acme.com/SH55126545/VD55149415', 'http://www.acme.com/SH55126545/VD55149415', 'http://www.acme.com/SH55126545/VD55149415', 'http://www.acme.com/SH55126545/VD55149415', 'http://www.acme.com/SH55126545/VD55165149', 'http://www.acme.com/SH55126545/VD55165149', 'http://www.acme.com/SH55126545/VD55165149', 'http://www.acme.com/SH55126545/VD55149415', 'http://www.acme.com/SH55126545/VD55165149', 'http://www.acme.com/SH55126545/VD55149415', 'http://www.acme.com/SH55126545/VD55165149', 'http://www.acme.com/SH55126545/VD55173061', 'http://www.acme.com/SH55126545/VD55173061', 'http://www.acme.com/SH55126545/VD55173061', 'http://www.acme.com/SH55126545/VD55173061', 'http://www.acme.com/SH55126545/VD55173061', 'http://www.acme.com/SH55126545/VD55173061', 'http://www.acme.com/SH55126545/VD55173061', 'http://www.acme.com/SH55126545/VD55173061', 'http://www.acme.com/SH55126545/VD55173061', 'http://www.acme.com/SH55126545/VD55177927', 'http://www.acme.com/SH55126545/VD55165149', 'http://www.acme.com/SH55126545/VD55165149', 'http://www.acme.com/SH55126545/VD55165149', 'http://www.acme.com/SH55126545/VD55165149', 'http://www.acme.com/SH55126545/VD55165149', 'http://www.acme.com/SH55126545/VD55165149', 'http://www.acme.com/SH55126545/VD55166807', 'http://www.acme.com/SH55126545/VD55166807', 'http://www.acme.com/SH55126545/VD55166807', 'http://www.acme.com/SH55126545/VD55166807', 'http://www.acme.com/SH55126545/VD55166807', 'http://www.acme.com/SH55126545/VD55170364', 'http://www.acme.com/SH55126545/VD55170364', 'http://www.acme.com/SH55126545/VD55170364', 'http://www.acme.com/SH55126545/VD55173061', 'http://www.acme.com/SH55126545/VD55149415', 'http://www.acme.com/SH55126545/VD55149415', 'http://www.acme.com/SH55126545/VD55149415']\n",
    "b = [['http://www.acme.com/SH55126545/VD55177927', 'http://www.acme.com/SH55126545/VD55177927', 'http://www.acme.com/SH55126545/VD55177927', 'http://www.acme.com/SH55126545/VD55177927', 'http://www.acme.com/SH55126545/VD55173061', 'http://www.acme.com/SH55126545/VD55173061', 'http://www.acme.com/SH55126545/VD55177927', 'http://www.acme.com/SH55126545/VD55177927', 'http://www.acme.com/SH55126545/VD55177927', 'http://www.acme.com/SH55126545/VD55177927', 'http://www.acme.com/SH55126545/VD55177927', 'http://www.acme.com/SH55126545/VD55177927', 'http://www.acme.com/SH55126545/VD55173061', 'http://www.acme.com/SH55126545/VD55177927', 'http://www.acme.com/SH55126545/VD55177927', 'http://www.acme.com/SH55126545/VD55177927', 'http://www.acme.com/SH55126545/VD55177927', 'http://www.acme.com/SH55126545/VD55177927', 'http://www.acme.com/SH55126545/VD55177927', 'http://www.acme.com/SH55126545/VD55177927', 'http://www.acme.com/SH55126545/VD55177927', 'http://www.acme.com/SH559040/VD55175948', 'http://www.acme.com/SH5580165/VD55173281', 'http://www.acme.com/SH5580165/VD55173281', 'http://www.acme.com/SH5580165/VD55173281', 'http://www.acme.com/SH5580165/VD55173281', 'http://www.acme.com/SH5580165/VD55173281', 'http://www.acme.com/SH5580165/VD55173281'], ['http://www.acme.com/SH55126545/VD55177927', 'http://www.acme.com/SH55126545/VD55177927', 'http://www.acme.com/SH55126545/VD55177927', 'http://www.acme.com/SH55126545/VD55177927', 'http://www.acme.com/SH55126545/VD55177927', 'http://www.acme.com/SH55126545/VD55177927', 'http://www.acme.com/SH55126545/VD55177927', 'http://www.acme.com/SH55126545/VD55177927', 'http://www.acme.com/SH55126545/VD55177927', 'http://www.acme.com/SH55126545/VD55177927', 'http://www.acme.com/SH55126545/VD55177927', 'http://www.acme.com/SH55126545/VD55177927', 'http://www.acme.com/SH55126545/VD55177927', 'http://www.acme.com/SH55126545/VD55177927', 'http://www.acme.com/SH55126545/VD55177927', 'http://www.acme.com/SH559040/VD55175948', 'http://www.acme.com/SH55126545/VD55177927', 'http://www.acme.com/SH55126545/VD55177927', 'http://www.acme.com/SH55126545/VD55177927', 'http://www.acme.com/SH55126545/VD55177927'], ['http://www.acme.com/SH55126545/VD55165149', 'http://www.acme.com/SH55126545/VD55165149', 'http://www.acme.com/SH55126545/VD55165149', 'http://www.acme.com/SH55126545/VD55165149', 'http://www.acme.com/SH55126545/VD55165149', 'http://www.acme.com/SH55126545/VD55165149', 'http://www.acme.com/SH55126545/VD55165149', 'http://www.acme.com/SH55126545/VD55165149', 'http://www.acme.com/SH55126545/VD55165149', 'http://www.acme.com/SH55126545/VD55166807', 'http://www.acme.com/SH559040/VD55175948', 'http://www.acme.com/SH559040/VD55175948', 'http://www.acme.com/SH55126545/VD55165149', 'http://www.acme.com/SH55126545/VD55165149', 'http://www.acme.com/SH55126545/VD55173061', 'http://www.acme.com/SH55126545/VD55173061', 'http://www.acme.com/SH55126545/VD55177927', 'http://www.acme.com/SH55126545/VD55177927', 'http://www.acme.com/SH55126545/VD55177927', 'http://www.acme.com/SH55126545/VD55173061', 'http://www.acme.com/SH55126545/VD55173061', 'http://www.acme.com/SH55126545/VD55177927', 'http://www.acme.com/SH55126545/VD55177927', 'http://www.acme.com/SH55126545/VD55177927', 'http://www.acme.com/SH559040/VD55175948', 'http://www.acme.com/SH559040/VD55175948', 'http://www.acme.com/SH559040/VD55175948', 'http://www.acme.com/SH55126545/VD55165149', 'http://www.acme.com/SH55126545/VD55165149', 'http://www.acme.com/SH55126545/VD55170364', 'http://www.acme.com/SH55126545/VD55170364', 'http://www.acme.com/SH55126545/VD55170364', 'http://www.acme.com/SH55126545/VD55170364', 'http://www.acme.com/SH55126545/VD55170364', 'http://www.acme.com/SH55126545/VD55170364', 'http://www.acme.com/SH55126545/VD55173061', 'http://www.acme.com/SH55126545/VD55177927', 'http://www.acme.com/SH55126545/VD55177927', 'http://www.acme.com/SH55126545/VD55177927', 'http://www.acme.com/SH55126545/VD55177927', 'http://www.acme.com/SH55126545/VD55177927', 'http://www.acme.com/SH55126545/VD55177927', 'http://www.acme.com/SH55126545/VD55177927', 'http://www.acme.com/SH55126545/VD55177927', 'http://www.acme.com/SH55126545/VD55173061', 'http://www.acme.com/SH55126545/VD55173061', 'http://www.acme.com/SH55126545/VD55173061', 'http://www.acme.com/SH55126545/VD55177927', 'http://www.acme.com/SH55126545/VD55173061', 'http://www.acme.com/SH55126545/VD55173061'], ['http://www.acme.com/SH55126545/VD55177927', 'http://www.acme.com/SH55126545/VD55177927', 'http://www.acme.com/SH55126545/VD55177927', 'http://www.acme.com/SH55126545/VD55177927', 'http://www.acme.com/SH55126545/VD55177927', 'http://www.acme.com/SH55126545/VD55177927', 'http://www.acme.com/SH55126545/VD55177927', 'http://www.acme.com/SH55126545/VD55177927', 'http://www.acme.com/SH55126545/VD55177927', 'http://www.acme.com/SH55126545/VD55177927', 'http://www.acme.com/SH5580165/VD55173281', 'http://www.acme.com/SH559040/VD55175948', 'http://www.acme.com/SH559040/VD55175948', 'http://www.acme.com/SH5580165/VD55173281', 'http://www.acme.com/SH559040/VD55175948', 'http://www.acme.com/SH559040/VD55175948', 'http://www.acme.com/SH559040/VD55175948', 'http://www.acme.com/SH559040/VD55175948'], ['http://www.acme.com/SH55126545/VD55179433', 'http://www.acme.com/SH55126545/VD55177927', 'http://www.acme.com/SH55126545/VD55177927', 'http://www.acme.com/SH55126545/VD55177927', 'http://www.acme.com/SH55126545/VD55179433', 'http://www.acme.com/SH55126545/VD55179433', 'http://www.acme.com/SH55126545/VD55177927', 'http://www.acme.com/SH55126545/VD55177927', 'http://www.acme.com/SH55126545/VD55177927', 'http://www.acme.com/SH55126545/VD55177927', 'http://www.acme.com/SH55126545/VD55177927', 'http://www.acme.com/SH559040/VD55175948', 'http://www.acme.com/SH55126545/VD55179433', 'http://www.acme.com/SH55126545/VD55179433', 'http://www.acme.com/SH55126545/VD55177927', 'http://www.acme.com/SH55126545/VD55177927', 'http://www.acme.com/SH55126545/VD55177927', 'http://www.acme.com/SH55126545/VD55177927', 'http://www.acme.com/SH55126545/VD55177927', 'http://www.acme.com/SH559040/VD55175948', 'http://www.acme.com/SH55126545/VD55177927', 'http://www.acme.com/SH55126545/VD55173061', 'http://www.acme.com/SH55126545/VD55179433', 'http://www.acme.com/SH55126545/VD55177927', 'http://www.acme.com/SH559040/VD55175948', 'http://www.acme.com/SH559040/VD55175948'], ['http://www.acme.com/SH55126545/VD55179433', 'http://www.acme.com/SH55126545/VD55179433', 'http://www.acme.com/SH55126545/VD55179433', 'http://www.acme.com/SH55126545/VD55179433', 'http://www.acme.com/SH55126545/VD55179433', 'http://www.acme.com/SH55126545/VD55179433', 'http://www.acme.com/SH55126545/VD55179433', 'http://www.acme.com/SH55126545/VD55179433', 'http://www.acme.com/SH55126545/VD55177927', 'http://www.acme.com/SH55126545/VD55177927', 'http://www.acme.com/SH55126545/VD55177927', 'http://www.acme.com/SH55126545/VD55179433', 'http://www.acme.com/SH559040/VD55175948', 'http://www.acme.com/SH559040/VD55175948', 'http://www.acme.com/SH559040/VD55175948', 'http://www.acme.com/SH55126545/VD55179433', 'http://www.acme.com/SH55126545/VD55179433', 'http://www.acme.com/SH55126545/VD55179433', 'http://www.acme.com/SH55126545/VD55179433', 'http://www.acme.com/SH55126545/VD55179433'], ['http://www.acme.com/SH55126545/VD55179433', 'http://www.acme.com/SH55126545/VD55179433', 'http://www.acme.com/SH55126545/VD55179433', 'http://www.acme.com/SH55126545/VD55177927', 'http://www.acme.com/SH55126545/VD55177927', 'http://www.acme.com/SH55126545/VD55177927', 'http://www.acme.com/SH55126545/VD55177927', 'http://www.acme.com/SH55126545/VD55179433', 'http://www.acme.com/SH55126545/VD55179433', 'http://www.acme.com/SH55126545/VD55179433', 'http://www.acme.com/SH55126545/VD55179433', 'http://www.acme.com/SH559040/VD55175948', 'http://www.acme.com/SH559040/VD55175948', 'http://www.acme.com/SH559040/VD55175948', 'http://www.acme.com/SH559040/VD55175948', 'http://www.acme.com/SH559040/VD55175948', 'http://www.acme.com/SH55126545/VD55179433', 'http://www.acme.com/SH55126545/VD55179433', 'http://www.acme.com/SH55126545/VD55179433'], ['http://www.acme.com/SH55126545/VD55179433', 'http://www.acme.com/SH55126545/VD55179433', 'http://www.acme.com/SH55126545/VD55179433', 'http://www.acme.com/SH55126545/VD55179433', 'http://www.acme.com/SH55126545/VD55179433', 'http://www.acme.com/SH55126545/VD55179433', 'http://www.acme.com/SH55126545/VD55179433', 'http://www.acme.com/SH55126545/VD55179433', 'http://www.acme.com/SH55126545/VD55177927', 'http://www.acme.com/SH55126545/VD55177927', 'http://www.acme.com/SH55126545/VD55177927', 'http://www.acme.com/SH55126545/VD55177927', 'http://www.acme.com/SH55126545/VD55177927', 'http://www.acme.com/SH55126545/VD55177927', 'http://www.acme.com/SH55126545/VD55177927', 'http://www.acme.com/SH55126545/VD55177927', 'http://www.acme.com/SH55126545/VD55177927', 'http://www.acme.com/SH55126545/VD55179433', 'http://www.acme.com/SH55126545/VD55179433', 'http://www.acme.com/SH55126545/VD55179433', 'http://www.acme.com/SH559040/VD55175948', 'http://www.acme.com/SH55126545/VD55179433'], ['http://www.acme.com/SH55126545/VD55179433', 'http://www.acme.com/SH55126545/VD55179433', 'http://www.acme.com/SH55126545/VD55179433', 'http://www.acme.com/SH55126545/VD55179433', 'http://www.acme.com/SH55126545/VD55179433', 'http://www.acme.com/SH55126545/VD55179433', 'http://www.acme.com/SH55126545/VD55179433', 'http://www.acme.com/SH55126545/VD55179433', 'http://www.acme.com/SH55126545/VD55177927', 'http://www.acme.com/SH55126545/VD55177927', 'http://www.acme.com/SH55126545/VD55177927', 'http://www.acme.com/SH55126545/VD55177927', 'http://www.acme.com/SH55126545/VD55177927', 'http://www.acme.com/SH55126545/VD55177927', 'http://www.acme.com/SH55126545/VD55177927', 'http://www.acme.com/SH55126545/VD55177927', 'http://www.acme.com/SH55126545/VD55177927', 'http://www.acme.com/SH55126545/VD55179433', 'http://www.acme.com/SH55126545/VD55179433', 'http://www.acme.com/SH55126545/VD55179433', 'http://www.acme.com/SH559040/VD55175948', 'http://www.acme.com/SH55126545/VD55179433'], ['http://www.acme.com/SH55126545/VD55179433', 'http://www.acme.com/SH55126545/VD55179433', 'http://www.acme.com/SH559040/VD55175948', 'http://www.acme.com/SH559040/VD55175948', 'http://www.acme.com/SH559040/VD55175948', 'http://www.acme.com/SH55126545/VD55177927', 'http://www.acme.com/SH55126545/VD55177927', 'http://www.acme.com/SH55126545/VD55177927', 'http://www.acme.com/SH55126545/VD55177927', 'http://www.acme.com/SH55126545/VD55179433', 'http://www.acme.com/SH55126545/VD55179433', 'http://www.acme.com/SH55126545/VD55179433', 'http://www.acme.com/SH55126545/VD55179433', 'http://www.acme.com/SH55126545/VD55179433', 'http://www.acme.com/SH55126545/VD55179433', 'http://www.acme.com/SH559040/VD55175948', 'http://www.acme.com/SH559040/VD55175948', 'http://www.acme.com/SH55126545/VD55179433', 'http://www.acme.com/SH55126545/VD55179433', 'http://www.acme.com/SH55126545/VD55179433', 'http://www.acme.com/SH55126545/VD55177927', 'http://www.acme.com/SH55126545/VD55177927', 'http://www.acme.com/SH55126545/VD55177927', 'http://www.acme.com/SH55126545/VD55177927', 'http://www.acme.com/SH55126545/VD55179433'], ['http://www.acme.com/SH55126545/VD55179433', 'http://www.acme.com/SH55126545/VD55179433', 'http://www.acme.com/SH55126545/VD55179433', 'http://www.acme.com/SH55126545/VD55177927', 'http://www.acme.com/SH55126545/VD55179433', 'http://www.acme.com/SH55126545/VD55179433', 'http://www.acme.com/SH559040/VD55175948', 'http://www.acme.com/SH559040/VD55175948', 'http://www.acme.com/SH559040/VD55175948', 'http://www.acme.com/SH559040/VD55175948', 'http://www.acme.com/SH559040/VD55175948', 'http://www.acme.com/SH559040/VD55175948', 'http://www.acme.com/SH559040/VD55175948', 'http://www.acme.com/SH55126545/VD55177927', 'http://www.acme.com/SH55126545/VD55177927', 'http://www.acme.com/SH55126545/VD55177927'], ['http://www.acme.com/SH55126545/VD55179433', 'http://www.acme.com/SH55126545/VD55179433', 'http://www.acme.com/SH55126545/VD55179433', 'http://www.acme.com/SH55126545/VD55179433', 'http://www.acme.com/SH55126545/VD55179433', 'http://www.acme.com/SH55126545/VD55179433', 'http://www.acme.com/SH55126545/VD55179433', 'http://www.acme.com/SH55126545/VD55179433', 'http://www.acme.com/SH559040/VD55175948', 'http://www.acme.com/SH559040/VD55175948', 'http://www.acme.com/SH559040/VD55175948', 'http://www.acme.com/SH55126545/VD55177927', 'http://www.acme.com/SH55126545/VD55177927', 'http://www.acme.com/SH559040/VD55175948'], ['http://www.acme.com/SH559040/VD55175948', 'http://www.acme.com/SH559040/VD55175948', 'http://www.acme.com/SH559040/VD55175948', 'http://www.acme.com/SH559040/VD55175948', 'http://www.acme.com/SH559040/VD55175948', 'http://www.acme.com/SH55126545/VD55177927', 'http://www.acme.com/SH55126545/VD55177927', 'http://www.acme.com/SH55126545/VD55177927', 'http://www.acme.com/SH55126545/VD55177927', 'http://www.acme.com/SH55126545/VD55177927', 'http://www.acme.com/SH55126545/VD55177927', 'http://www.acme.com/SH55126545/VD55177927', 'http://www.acme.com/SH55126545/VD55177927', 'http://www.acme.com/SH55126545/VD55177927', 'http://www.acme.com/SH55126545/VD55177927', 'http://www.acme.com/SH559040/VD55175948', 'http://www.acme.com/SH559040/VD55175948', 'http://www.acme.com/SH55126545/VD55177927', 'http://www.acme.com/SH55126545/VD55177927', 'http://www.acme.com/SH55126545/VD55177927', 'http://www.acme.com/SH55126545/VD55177927', 'http://www.acme.com/SH55126545/VD55177927'], ['http://www.acme.com/SH559040/VD55175948', 'http://www.acme.com/SH559040/VD55175948', 'http://www.acme.com/SH559040/VD55175948', 'http://www.acme.com/SH559040/VD55175948', 'http://www.acme.com/SH559040/VD55175948', 'http://www.acme.com/SH55126545/VD55177927', 'http://www.acme.com/SH55126545/VD55177927', 'http://www.acme.com/SH55126545/VD55177927', 'http://www.acme.com/SH55126545/VD55177927', 'http://www.acme.com/SH55126545/VD55177927', 'http://www.acme.com/SH55126545/VD55177927', 'http://www.acme.com/SH55126545/VD55177927', 'http://www.acme.com/SH55126545/VD55177927', 'http://www.acme.com/SH55126545/VD55177927', 'http://www.acme.com/SH55126545/VD55177927', 'http://www.acme.com/SH559040/VD55175948', 'http://www.acme.com/SH559040/VD55175948', 'http://www.acme.com/SH55126545/VD55177927', 'http://www.acme.com/SH55126545/VD55177927', 'http://www.acme.com/SH55126545/VD55177927', 'http://www.acme.com/SH55126545/VD55177927', 'http://www.acme.com/SH55126545/VD55177927'], ['http://www.acme.com/SH55126545/VD55177927', 'http://www.acme.com/SH55126545/VD55177927', 'http://www.acme.com/SH55126545/VD55177927', 'http://www.acme.com/SH55126545/VD55177927', 'http://www.acme.com/SH55126545/VD55177927', 'http://www.acme.com/SH55126545/VD55177927', 'http://www.acme.com/SH55126545/VD55177927', 'http://www.acme.com/SH55126545/VD55173061', 'http://www.acme.com/SH55126545/VD55173061', 'http://www.acme.com/SH55126545/VD55173061', 'http://www.acme.com/SH55126545/VD55173061', 'http://www.acme.com/SH55126545/VD55173061', 'http://www.acme.com/SH55126545/VD55173061', 'http://www.acme.com/SH559040/VD55175948', 'http://www.acme.com/SH55126545/VD55177927', 'http://www.acme.com/SH55126545/VD55177927', 'http://www.acme.com/SH55126545/VD55177927', 'http://www.acme.com/SH55126545/VD55177927', 'http://www.acme.com/SH55126545/VD55177927', 'http://www.acme.com/SH55126545/VD55177927', 'http://www.acme.com/SH55126545/VD55177927', 'http://www.acme.com/SH55126545/VD55177927', 'http://www.acme.com/SH55126545/VD55177927', 'http://www.acme.com/SH559040/VD55175948', 'http://www.acme.com/SH55126545/VD55173061', 'http://www.acme.com/SH55126545/VD55173061', 'http://www.acme.com/SH55126545/VD55173061', 'http://www.acme.com/SH55126545/VD55173061', 'http://www.acme.com/SH55126545/VD55173061', 'http://www.acme.com/SH55126545/VD55173061', 'http://www.acme.com/SH55126545/VD55173061', 'http://www.acme.com/SH559040/VD55175948', 'http://www.acme.com/SH559040/VD55175948', 'http://www.acme.com/SH55126545/VD55173061'], ['http://www.acme.com/SH55126545/VD55177927', 'http://www.acme.com/SH55126545/VD55177927', 'http://www.acme.com/SH55126545/VD55177927', 'http://www.acme.com/SH55126545/VD55177927', 'http://www.acme.com/SH55126545/VD55177927', 'http://www.acme.com/SH55126545/VD55177927', 'http://www.acme.com/SH55126545/VD55179433', 'http://www.acme.com/SH55126545/VD55179433', 'http://www.acme.com/SH55126545/VD55179433', 'http://www.acme.com/SH55126545/VD55179433', 'http://www.acme.com/SH55126545/VD55177927', 'http://www.acme.com/SH55126545/VD55177927', 'http://www.acme.com/SH55126545/VD55177927', 'http://www.acme.com/SH55126545/VD55177927', 'http://www.acme.com/SH55126545/VD55177927', 'http://www.acme.com/SH55126545/VD55179433', 'http://www.acme.com/SH55126545/VD55179433', 'http://www.acme.com/SH55126545/VD55179433', 'http://www.acme.com/SH55126545/VD55179433', 'http://www.acme.com/SH55126545/VD55179433', 'http://www.acme.com/SH55126545/VD55179433', 'http://www.acme.com/SH55126545/VD55179433', 'http://www.acme.com/SH559040/VD55175948', 'http://www.acme.com/SH559040/VD55175948'], ['http://www.acme.com/SH559040/VD55175948', 'http://www.acme.com/SH559040/VD55175948', 'http://www.acme.com/SH559040/VD55175948', 'http://www.acme.com/SH559040/VD55175948', 'http://www.acme.com/SH55126545/VD55177927', 'http://www.acme.com/SH55126545/VD55177927', 'http://www.acme.com/SH55126545/VD55177927', 'http://www.acme.com/SH559040/VD55175948', 'http://www.acme.com/SH559040/VD55175948', 'http://www.acme.com/SH55126545/VD55177927', 'http://www.acme.com/SH55126545/VD55177927', 'http://www.acme.com/SH55126545/VD55177927', 'http://www.acme.com/SH55126545/VD55177927', 'http://www.acme.com/SH55126545/VD55177927', 'http://www.acme.com/SH55126545/VD55177927', 'http://www.acme.com/SH55126545/VD55177927'], ['http://www.acme.com/SH55126545/VD55177927', 'http://www.acme.com/SH55126545/VD55177927', 'http://www.acme.com/SH55126545/VD55177927', 'http://www.acme.com/SH55126545/VD55177927', 'http://www.acme.com/SH55126545/VD55177927', 'http://www.acme.com/SH559040/VD55175948', 'http://www.acme.com/SH55126545/VD55177927', 'http://www.acme.com/SH55126545/VD55177927', 'http://www.acme.com/SH55126545/VD55177927', 'http://www.acme.com/SH55126545/VD55177927', 'http://www.acme.com/SH55126545/VD55177927', 'http://www.acme.com/SH55126545/VD55177927', 'http://www.acme.com/SH55126545/VD55177927', 'http://www.acme.com/SH55126545/VD55177927', 'http://www.acme.com/SH55126545/VD55177927', 'http://www.acme.com/SH55126545/VD55177927', 'http://www.acme.com/SH55126545/VD55177927', 'http://www.acme.com/SH559040/VD55175948', 'http://www.acme.com/SH559040/VD55175948', 'http://www.acme.com/SH559040/VD55175948'], ['http://www.acme.com/SH55126545/VD55177927', 'http://www.acme.com/SH55126545/VD55177927', 'http://www.acme.com/SH55126545/VD55177927', 'http://www.acme.com/SH55126545/VD55177927', 'http://www.acme.com/SH55126545/VD55177927', 'http://www.acme.com/SH559040/VD55175948', 'http://www.acme.com/SH55126545/VD55177927', 'http://www.acme.com/SH55126545/VD55177927', 'http://www.acme.com/SH55126545/VD55177927', 'http://www.acme.com/SH55126545/VD55177927', 'http://www.acme.com/SH55126545/VD55177927', 'http://www.acme.com/SH55126545/VD55177927', 'http://www.acme.com/SH55126545/VD55177927', 'http://www.acme.com/SH55126545/VD55177927', 'http://www.acme.com/SH55126545/VD55177927', 'http://www.acme.com/SH55126545/VD55177927', 'http://www.acme.com/SH55126545/VD55177927', 'http://www.acme.com/SH559040/VD55175948', 'http://www.acme.com/SH559040/VD55175948', 'http://www.acme.com/SH559040/VD55175948'], ['http://www.acme.com/SH559040/VD55175948', 'http://www.acme.com/SH559040/VD55175948', 'http://www.acme.com/SH55126545/VD55177927', 'http://www.acme.com/SH559040/VD55175948', 'http://www.acme.com/SH559040/VD55175948', 'http://www.acme.com/SH559040/VD55175948', 'http://www.acme.com/SH559040/VD55175948', 'http://www.acme.com/SH559040/VD55175948'], ['http://www.acme.com/SH559040/VD55175948', 'http://www.acme.com/SH559040/VD55175948', 'http://www.acme.com/SH559040/VD55175948', 'http://www.acme.com/SH559040/VD55175948', 'http://www.acme.com/SH559040/VD55175948', 'http://www.acme.com/SH559040/VD55175948', 'http://www.acme.com/SH55126545/VD55177927', 'http://www.acme.com/SH559040/VD55175948', 'http://www.acme.com/SH559040/VD55175948', 'http://www.acme.com/SH559040/VD55175948', 'http://www.acme.com/SH559040/VD55175948'], ['http://www.acme.com/SH559040/VD55175948', 'http://www.acme.com/SH559040/VD55175948', 'http://www.acme.com/SH559040/VD55175948', 'http://www.acme.com/SH559040/VD55175948', 'http://www.acme.com/SH559040/VD55175948', 'http://www.acme.com/SH559040/VD55175948', 'http://www.acme.com/SH55126545/VD55177927', 'http://www.acme.com/SH559040/VD55175948', 'http://www.acme.com/SH559040/VD55175948', 'http://www.acme.com/SH559040/VD55175948', 'http://www.acme.com/SH559040/VD55175948'], ['http://www.acme.com/SH55126545/VD55173061', 'http://www.acme.com/SH55126545/VD55173061', 'http://www.acme.com/SH55126545/VD55173061', 'http://www.acme.com/SH55126545/VD55173061', 'http://www.acme.com/SH55126545/VD55177927', 'http://www.acme.com/SH55126545/VD55177927', 'http://www.acme.com/SH55126545/VD55177927', 'http://www.acme.com/SH55126545/VD55177927', 'http://www.acme.com/SH55126545/VD55173061', 'http://www.acme.com/SH55126545/VD55173061', 'http://www.acme.com/SH55126545/VD55173061', 'http://www.acme.com/SH55126545/VD55173061', 'http://www.acme.com/SH55126545/VD55173061', 'http://www.acme.com/SH55126545/VD55173061', 'http://www.acme.com/SH55126545/VD55173061', 'http://www.acme.com/SH559040/VD55175948', 'http://www.acme.com/SH559040/VD55175948', 'http://www.acme.com/SH55126545/VD55177927', 'http://www.acme.com/SH55126545/VD55177927'], ['http://www.acme.com/SH55126545/VD55173061', 'http://www.acme.com/SH55126545/VD55173061', 'http://www.acme.com/SH55126545/VD55173061', 'http://www.acme.com/SH55126545/VD55173061', 'http://www.acme.com/SH55126545/VD55177927', 'http://www.acme.com/SH55126545/VD55177927', 'http://www.acme.com/SH55126545/VD55177927', 'http://www.acme.com/SH55126545/VD55177927', 'http://www.acme.com/SH55126545/VD55177927', 'http://www.acme.com/SH55126545/VD55177927', 'http://www.acme.com/SH55126545/VD55177927', 'http://www.acme.com/SH55126545/VD55177927', 'http://www.acme.com/SH559040/VD55175948', 'http://www.acme.com/SH55126545/VD55177927', 'http://www.acme.com/SH55126545/VD55177927', 'http://www.acme.com/SH55126545/VD55177927', 'http://www.acme.com/SH55126545/VD55177927', 'http://www.acme.com/SH55126545/VD55177927', 'http://www.acme.com/SH55126545/VD55177927', 'http://www.acme.com/SH55126545/VD55177927', 'http://www.acme.com/SH55126545/VD55177927', 'http://www.acme.com/SH55126545/VD55177927', 'http://www.acme.com/SH55126545/VD55173061', 'http://www.acme.com/SH55126545/VD55173061', 'http://www.acme.com/SH55126545/VD55173061', 'http://www.acme.com/SH55126545/VD55173061', 'http://www.acme.com/SH55126545/VD55173061', 'http://www.acme.com/SH55126545/VD55173061', 'http://www.acme.com/SH55126545/VD55173061'], ['http://www.acme.com/SH55126545/VD55170364', 'http://www.acme.com/SH55126545/VD55170364', 'http://www.acme.com/SH55126545/VD55170364', 'http://www.acme.com/SH55126545/VD55170364', 'http://www.acme.com/SH55126545/VD55170364', 'http://www.acme.com/SH55126545/VD55170364', 'http://www.acme.com/SH55126545/VD55170364', 'http://www.acme.com/SH55126545/VD55170364', 'http://www.acme.com/SH55126545/VD55177927', 'http://www.acme.com/SH55126545/VD55177927', 'http://www.acme.com/SH55126545/VD55177927', 'http://www.acme.com/SH55126545/VD55177927', 'http://www.acme.com/SH55126545/VD55177927', 'http://www.acme.com/SH55126545/VD55173061', 'http://www.acme.com/SH55126545/VD55173061', 'http://www.acme.com/SH55126545/VD55173061', 'http://www.acme.com/SH55126545/VD55173061', 'http://www.acme.com/SH55126545/VD55173061', 'http://www.acme.com/SH55126545/VD55177927', 'http://www.acme.com/SH55126545/VD55177927', 'http://www.acme.com/SH55126545/VD55177927', 'http://www.acme.com/SH55126545/VD55177927', 'http://www.acme.com/SH55126545/VD55177927', 'http://www.acme.com/SH55126545/VD55177927', 'http://www.acme.com/SH55126545/VD55177927', 'http://www.acme.com/SH55126545/VD55177927', 'http://www.acme.com/SH55126545/VD55170364', 'http://www.acme.com/SH55126545/VD55170364', 'http://www.acme.com/SH55126545/VD55170364', 'http://www.acme.com/SH55126545/VD55170364', 'http://www.acme.com/SH559040/VD55175948', 'http://www.acme.com/SH559040/VD55175948', 'http://www.acme.com/SH559040/VD55175948', 'http://www.acme.com/SH559040/VD55175948', 'http://www.acme.com/SH559040/VD55175948', 'http://www.acme.com/SH559040/VD55175948', 'http://www.acme.com/SH55126545/VD55179433', 'http://www.acme.com/SH55126545/VD55179433', 'http://www.acme.com/SH55126545/VD55179433', 'http://www.acme.com/SH55126545/VD55179433', 'http://www.acme.com/SH55126545/VD55179433'], ['http://www.acme.com/SH55126545/VD55170364', 'http://www.acme.com/SH55126545/VD55173061', 'http://www.acme.com/SH55126545/VD55173061', 'http://www.acme.com/SH55126545/VD55173061', 'http://www.acme.com/SH55126545/VD55173061', 'http://www.acme.com/SH55126545/VD55177927', 'http://www.acme.com/SH55126545/VD55170364', 'http://www.acme.com/SH55126545/VD55170364', 'http://www.acme.com/SH55126545/VD55173061', 'http://www.acme.com/SH55126545/VD55173061', 'http://www.acme.com/SH55126545/VD55170364', 'http://www.acme.com/SH55126545/VD55170364', 'http://www.acme.com/SH55126545/VD55173061', 'http://www.acme.com/SH55126545/VD55173061', 'http://www.acme.com/SH55126545/VD55173061', 'http://www.acme.com/SH55126545/VD55173061', 'http://www.acme.com/SH55126545/VD55166807', 'http://www.acme.com/SH559040/VD55175948', 'http://www.acme.com/SH55126545/VD55173061', 'http://www.acme.com/SH55126545/VD55173061', 'http://www.acme.com/SH55126545/VD55170364', 'http://www.acme.com/SH55126545/VD55173061', 'http://www.acme.com/SH55126545/VD55173061', 'http://www.acme.com/SH55126545/VD55177927', 'http://www.acme.com/SH55126545/VD55177927', 'http://www.acme.com/SH55126545/VD55177927', 'http://www.acme.com/SH55126545/VD55177927', 'http://www.acme.com/SH55126545/VD55177927', 'http://www.acme.com/SH55126545/VD55177927', 'http://www.acme.com/SH55126545/VD55170364', 'http://www.acme.com/SH55126545/VD55170364', 'http://www.acme.com/SH55126545/VD55170364', 'http://www.acme.com/SH55126545/VD55170364', 'http://www.acme.com/SH55126545/VD55170364', 'http://www.acme.com/SH55126545/VD55170364', 'http://www.acme.com/SH55126545/VD55170364', 'http://www.acme.com/SH55126545/VD55170364', 'http://www.acme.com/SH55126545/VD55166807', 'http://www.acme.com/SH55126545/VD55165149', 'http://www.acme.com/SH559040/VD55175948', 'http://www.acme.com/SH55126545/VD55166807', 'http://www.acme.com/SH55126545/VD55170364', 'http://www.acme.com/SH55126545/VD55170364', 'http://www.acme.com/SH55126545/VD55166807', 'http://www.acme.com/SH55126545/VD55166807', 'http://www.acme.com/SH559040/VD55175948', 'http://www.acme.com/SH559040/VD55175948', 'http://www.acme.com/SH55126545/VD55170364', 'http://www.acme.com/SH55126545/VD55177927', 'http://www.acme.com/SH55126545/VD55177927', 'http://www.acme.com/SH55126545/VD55166807', 'http://www.acme.com/SH55126545/VD55170364', 'http://www.acme.com/SH55126545/VD55166807', 'http://www.acme.com/SH55126545/VD55166807', 'http://www.acme.com/SH55126545/VD55166807', 'http://www.acme.com/SH55126545/VD55170364', 'http://www.acme.com/SH55126545/VD55166807', 'http://www.acme.com/SH55126545/VD55166807', 'http://www.acme.com/SH55126545/VD55177927', 'http://www.acme.com/SH55126545/VD55173061', 'http://www.acme.com/SH55126545/VD55173061', 'http://www.acme.com/SH55126545/VD55173061', 'http://www.acme.com/SH55126545/VD55173061', 'http://www.acme.com/SH55126545/VD55177927', 'http://www.acme.com/SH55126545/VD55177927', 'http://www.acme.com/SH55126545/VD55177927', 'http://www.acme.com/SH55126545/VD55170364', 'http://www.acme.com/SH55126545/VD55170364', 'http://www.acme.com/SH55126545/VD55177927', 'http://www.acme.com/SH55126545/VD55177927', 'http://www.acme.com/SH55126545/VD55177927', 'http://www.acme.com/SH55126545/VD55177927', 'http://www.acme.com/SH55126545/VD55177927', 'http://www.acme.com/SH55126545/VD55173061', 'http://www.acme.com/SH55126545/VD55173061'], ['http://www.acme.com/SH55126545/VD55177927', 'http://www.acme.com/SH55126545/VD55177927', 'http://www.acme.com/SH55126545/VD55177927', 'http://www.acme.com/SH559040/VD55175948', 'http://www.acme.com/SH559040/VD55175948', 'http://www.acme.com/SH559040/VD55175948', 'http://www.acme.com/SH55126545/VD55177927', 'http://www.acme.com/SH55126545/VD55177927', 'http://www.acme.com/SH55126545/VD55177927', 'http://www.acme.com/SH55126545/VD55177927', 'http://www.acme.com/SH55126545/VD55177927', 'http://www.acme.com/SH55126545/VD55177927', 'http://www.acme.com/SH55126545/VD55177927'], ['http://www.acme.com/SH55126545/VD55170364', 'http://www.acme.com/SH55126545/VD55170364', 'http://www.acme.com/SH559040/VD55175948', 'http://www.acme.com/SH55126545/VD55170364', 'http://www.acme.com/SH55126545/VD55173061', 'http://www.acme.com/SH55126545/VD55177927', 'http://www.acme.com/SH55126545/VD55177927', 'http://www.acme.com/SH55126545/VD55177927', 'http://www.acme.com/SH55126545/VD55166807', 'http://www.acme.com/SH55126545/VD55173061', 'http://www.acme.com/SH55126545/VD55173061', 'http://www.acme.com/SH55126545/VD55173061', 'http://www.acme.com/SH55126545/VD55173061', 'http://www.acme.com/SH55126545/VD55173061', 'http://www.acme.com/SH55126545/VD55170364', 'http://www.acme.com/SH55126545/VD55177927', 'http://www.acme.com/SH559040/VD55175948', 'http://www.acme.com/SH559040/VD55175948', 'http://www.acme.com/SH55126545/VD55173061', 'http://www.acme.com/SH55126545/VD55170364', 'http://www.acme.com/SH55126545/VD55177927', 'http://www.acme.com/SH55126545/VD55177927', 'http://www.acme.com/SH55126545/VD55166807', 'http://www.acme.com/SH55126545/VD55166807', 'http://www.acme.com/SH55126545/VD55170364', 'http://www.acme.com/SH55126545/VD55173061', 'http://www.acme.com/SH55126545/VD55173061', 'http://www.acme.com/SH55126545/VD55173061', 'http://www.acme.com/SH55126545/VD55173061', 'http://www.acme.com/SH55126545/VD55173061', 'http://www.acme.com/SH55126545/VD55166807', 'http://www.acme.com/SH55126545/VD55166807', 'http://www.acme.com/SH55126545/VD55177927', 'http://www.acme.com/SH55126545/VD55177927', 'http://www.acme.com/SH55126545/VD55177927', 'http://www.acme.com/SH55126545/VD55170364', 'http://www.acme.com/SH55126545/VD55170364', 'http://www.acme.com/SH55126545/VD55177927', 'http://www.acme.com/SH55126545/VD55177927', 'http://www.acme.com/SH55126545/VD55177927'], ['http://www.acme.com/SH559040/VD55175948', 'http://www.acme.com/SH559040/VD55175948', 'http://www.acme.com/SH55126545/VD55177927', 'http://www.acme.com/SH55126545/VD55177927', 'http://www.acme.com/SH55126545/VD55177927', 'http://www.acme.com/SH55126545/VD55177927', 'http://www.acme.com/SH559040/VD55175948', 'http://www.acme.com/SH559040/VD55175948', 'http://www.acme.com/SH559040/VD55175948'], ['http://www.acme.com/SH55126545/VD55177927', 'http://www.acme.com/SH55126545/VD55177927', 'http://www.acme.com/SH55126545/VD55179433', 'http://www.acme.com/SH55126545/VD55179433', 'http://www.acme.com/SH55126545/VD55177927', 'http://www.acme.com/SH55126545/VD55177927', 'http://www.acme.com/SH55126545/VD55177927', 'http://www.acme.com/SH55126545/VD55177927', 'http://www.acme.com/SH55126545/VD55177927', 'http://www.acme.com/SH55126545/VD55177927', 'http://www.acme.com/SH55126545/VD55177927', 'http://www.acme.com/SH55126545/VD55179433', 'http://www.acme.com/SH55126545/VD55179433', 'http://www.acme.com/SH55126545/VD55179433', 'http://www.acme.com/SH55126545/VD55177927', 'http://www.acme.com/SH55126545/VD55177927', 'http://www.acme.com/SH55126545/VD55179433', 'http://www.acme.com/SH559040/VD55175948', 'http://www.acme.com/SH55126545/VD55177927', 'http://www.acme.com/SH55126545/VD55177927', 'http://www.acme.com/SH559040/VD55175948', 'http://www.acme.com/SH559040/VD55175948', 'http://www.acme.com/SH559040/VD55175948', 'http://www.acme.com/SH559040/VD55175948', 'http://www.acme.com/SH55126545/VD55179433', 'http://www.acme.com/SH559040/VD55175948', 'http://www.acme.com/SH559040/VD55175948', 'http://www.acme.com/SH559040/VD55175948', 'http://www.acme.com/SH55126545/VD55177927', 'http://www.acme.com/SH55126545/VD55177927', 'http://www.acme.com/SH55126545/VD55177927', 'http://www.acme.com/SH55126545/VD55177927', 'http://www.acme.com/SH55126545/VD55177927', 'http://www.acme.com/SH55126545/VD55177927', 'http://www.acme.com/SH55126545/VD55177927', 'http://www.acme.com/SH55126545/VD55177927', 'http://www.acme.com/SH55126545/VD55177927', 'http://www.acme.com/SH55126545/VD55177927', 'http://www.acme.com/SH55126545/VD55177927', 'http://www.acme.com/SH55126545/VD55179433', 'http://www.acme.com/SH55126545/VD55179433', 'http://www.acme.com/SH55126545/VD55179433'], ['http://www.acme.com/SH55126545/VD55177927', 'http://www.acme.com/SH55126545/VD55177927', 'http://www.acme.com/SH559040/VD55175948', 'http://www.acme.com/SH559040/VD55175948', 'http://www.acme.com/SH55126545/VD55177927', 'http://www.acme.com/SH55126545/VD55177927', 'http://www.acme.com/SH55126545/VD55177927', 'http://www.acme.com/SH559040/VD55175948', 'http://www.acme.com/SH559040/VD55175948', 'http://www.acme.com/SH559040/VD55175948', 'http://www.acme.com/SH55126545/VD55177927', 'http://www.acme.com/SH55126545/VD55177927', 'http://www.acme.com/SH55126545/VD55177927', 'http://www.acme.com/SH55126545/VD55177927', 'http://www.acme.com/SH55126545/VD55177927', 'http://www.acme.com/SH55126545/VD55177927', 'http://www.acme.com/SH55126545/VD55177927', 'http://www.acme.com/SH55126545/VD55177927'], ['http://www.acme.com/SH55126545/VD55177927', 'http://www.acme.com/SH55126545/VD55177927', 'http://www.acme.com/SH559040/VD55175948', 'http://www.acme.com/SH559040/VD55175948', 'http://www.acme.com/SH55126545/VD55177927', 'http://www.acme.com/SH55126545/VD55177927', 'http://www.acme.com/SH55126545/VD55177927', 'http://www.acme.com/SH559040/VD55175948', 'http://www.acme.com/SH559040/VD55175948', 'http://www.acme.com/SH559040/VD55175948', 'http://www.acme.com/SH55126545/VD55177927', 'http://www.acme.com/SH55126545/VD55177927', 'http://www.acme.com/SH55126545/VD55177927', 'http://www.acme.com/SH55126545/VD55177927', 'http://www.acme.com/SH55126545/VD55177927', 'http://www.acme.com/SH55126545/VD55177927', 'http://www.acme.com/SH55126545/VD55177927', 'http://www.acme.com/SH55126545/VD55177927'], ['http://www.acme.com/SH55126545/VD55177927', 'http://www.acme.com/SH55126545/VD55177927', 'http://www.acme.com/SH55126545/VD55177927', 'http://www.acme.com/SH559040/VD55175948', 'http://www.acme.com/SH559040/VD55175948', 'http://www.acme.com/SH559040/VD55175948', 'http://www.acme.com/SH55126545/VD55177927'], ['http://www.acme.com/SH55126545/VD55177927', 'http://www.acme.com/SH55126545/VD55177927', 'http://www.acme.com/SH559040/VD55175948', 'http://www.acme.com/SH559040/VD55175948', 'http://www.acme.com/SH559040/VD55175948', 'http://www.acme.com/SH55126545/VD55179433', 'http://www.acme.com/SH55126545/VD55179433', 'http://www.acme.com/SH559040/VD55175948', 'http://www.acme.com/SH55126545/VD55173061', 'http://www.acme.com/SH55126545/VD55173061', 'http://www.acme.com/SH55126545/VD55177927', 'http://www.acme.com/SH55126545/VD55177927', 'http://www.acme.com/SH55126545/VD55149415', 'http://www.acme.com/SH55126545/VD55149415', 'http://www.acme.com/SH55126545/VD55149415', 'http://www.acme.com/SH55126545/VD55149415', 'http://www.acme.com/SH55126545/VD55149415', 'http://www.acme.com/SH55126545/VD55179433', 'http://www.acme.com/SH55126545/VD55179433', 'http://www.acme.com/SH55126545/VD55179433', 'http://www.acme.com/SH55126545/VD55177927', 'http://www.acme.com/SH55126545/VD55177927', 'http://www.acme.com/SH55126545/VD55177927', 'http://www.acme.com/SH55126545/VD55177927', 'http://www.acme.com/SH55126545/VD55177927', 'http://www.acme.com/SH55126545/VD55177927', 'http://www.acme.com/SH55126545/VD55177927', 'http://www.acme.com/SH55126545/VD55177927', 'http://www.acme.com/SH55126545/VD55177927'], ['http://www.acme.com/SH55126545/VD55177927', 'http://www.acme.com/SH55126545/VD55177927', 'http://www.acme.com/SH55126545/VD55177927', 'http://www.acme.com/SH55126545/VD55177927', 'http://www.acme.com/SH55126545/VD55177927', 'http://www.acme.com/SH55126545/VD55177927', 'http://www.acme.com/SH559040/VD55175948', 'http://www.acme.com/SH55126545/VD55177927', 'http://www.acme.com/SH55126545/VD55177927', 'http://www.acme.com/SH55126545/VD55177927', 'http://www.acme.com/SH55126545/VD55177927', 'http://www.acme.com/SH55126545/VD55177927', 'http://www.acme.com/SH559040/VD55175948'], ['http://www.acme.com/SH55126545/VD55177927', 'http://www.acme.com/SH55126545/VD55170364', 'http://www.acme.com/SH55126545/VD55177927', 'http://www.acme.com/SH55126545/VD55177927', 'http://www.acme.com/SH55126545/VD55177927', 'http://www.acme.com/SH55126545/VD55177927', 'http://www.acme.com/SH55126545/VD55177927', 'http://www.acme.com/SH55126545/VD55177927', 'http://www.acme.com/SH55126545/VD55177927', 'http://www.acme.com/SH55126545/VD55177927', 'http://www.acme.com/SH55126545/VD55177927', 'http://www.acme.com/SH55126545/VD55177927', 'http://www.acme.com/SH55126545/VD55177927', 'http://www.acme.com/SH55126545/VD55177927', 'http://www.acme.com/SH55126545/VD55177927', 'http://www.acme.com/SH55126545/VD55177927', 'http://www.acme.com/SH559040/VD55175948', 'http://www.acme.com/SH559040/VD55175948', 'http://www.acme.com/SH55126545/VD55177927', 'http://www.acme.com/SH55126545/VD55177927', 'http://www.acme.com/SH559040/VD55175948', 'http://www.acme.com/SH559040/VD55175948'], ['http://www.acme.com/SH55126545/VD55177927', 'http://www.acme.com/SH55126545/VD55177927', 'http://www.acme.com/SH55126545/VD55177927', 'http://www.acme.com/SH55126545/VD55177927', 'http://www.acme.com/SH55126545/VD55177927', 'http://www.acme.com/SH55126545/VD55177927', 'http://www.acme.com/SH55126545/VD55177927', 'http://www.acme.com/SH559040/VD55175948', 'http://www.acme.com/SH55126545/VD55177927', 'http://www.acme.com/SH55126545/VD55177927', 'http://www.acme.com/SH55126545/VD55177927', 'http://www.acme.com/SH55126545/VD55177927', 'http://www.acme.com/SH55126545/VD55177927', 'http://www.acme.com/SH55126545/VD55177927', 'http://www.acme.com/SH55126545/VD55177927', 'http://www.acme.com/SH55126545/VD55177927', 'http://www.acme.com/SH55126545/VD55177927'], ['http://www.acme.com/SH55126545/VD55177927', 'http://www.acme.com/SH55126545/VD55177927', 'http://www.acme.com/SH55126545/VD55177927', 'http://www.acme.com/SH55126545/VD55177927', 'http://www.acme.com/SH55126545/VD55177927', 'http://www.acme.com/SH55126545/VD55177927', 'http://www.acme.com/SH55126545/VD55177927', 'http://www.acme.com/SH55126545/VD55177927', 'http://www.acme.com/SH55126545/VD55177927', 'http://www.acme.com/SH55126545/VD55177927', 'http://www.acme.com/SH55126545/VD55177927', 'http://www.acme.com/SH55126545/VD55177927', 'http://www.acme.com/SH55126545/VD55177927', 'http://www.acme.com/SH559040/VD55175948', 'http://www.acme.com/SH559040/VD55175948', 'http://www.acme.com/SH559040/VD55175948', 'http://www.acme.com/SH559040/VD55175948'], ['http://www.acme.com/SH55126545/VD55177927', 'http://www.acme.com/SH559040/VD55175948', 'http://www.acme.com/SH559040/VD55175948', 'http://www.acme.com/SH559040/VD55175948', 'http://www.acme.com/SH559040/VD55175948', 'http://www.acme.com/SH559040/VD55175948'], ['http://www.acme.com/SH55126545/VD55177927', 'http://www.acme.com/SH55126545/VD55177927', 'http://www.acme.com/SH55126545/VD55177927', 'http://www.acme.com/SH55126545/VD55177927', 'http://www.acme.com/SH55126545/VD55177927', 'http://www.acme.com/SH559040/VD55175948', 'http://www.acme.com/SH559040/VD55175948', 'http://www.acme.com/SH559040/VD55175948', 'http://www.acme.com/SH55126545/VD55179433', 'http://www.acme.com/SH55126545/VD55179433', 'http://www.acme.com/SH55126545/VD55179433', 'http://www.acme.com/SH55126545/VD55179433'], ['http://www.acme.com/SH55126545/VD55177927', 'http://www.acme.com/SH55126545/VD55177927', 'http://www.acme.com/SH55126545/VD55177927', 'http://www.acme.com/SH55126545/VD55177927', 'http://www.acme.com/SH55126545/VD55177927', 'http://www.acme.com/SH55126545/VD55177927', 'http://www.acme.com/SH55126545/VD55177927', 'http://www.acme.com/SH559040/VD55175948'], ['http://www.acme.com/SH55126545/VD55177927', 'http://www.acme.com/SH55126545/VD55177927', 'http://www.acme.com/SH55126545/VD55177927', 'http://www.acme.com/SH559040/VD55175948', 'http://www.acme.com/SH559040/VD55175948', 'http://www.acme.com/SH559040/VD55175948', 'http://www.acme.com/SH559040/VD55175948', 'http://www.acme.com/SH55126545/VD55179433', 'http://www.acme.com/SH55126545/VD55179433', 'http://www.acme.com/SH55126545/VD55177927', 'http://www.acme.com/SH55126545/VD55177927', 'http://www.acme.com/SH55126545/VD55177927', 'http://www.acme.com/SH55126545/VD55177927', 'http://www.acme.com/SH55126545/VD55177927', 'http://www.acme.com/SH55126545/VD55177927', 'http://www.acme.com/SH55126545/VD55177927', 'http://www.acme.com/SH55126545/VD55177927'], ['http://www.acme.com/SH55126545/VD55177927', 'http://www.acme.com/SH55126545/VD55177927', 'http://www.acme.com/SH55126545/VD55177927', 'http://www.acme.com/SH55126545/VD55177927', 'http://www.acme.com/SH55126545/VD55177927', 'http://www.acme.com/SH55126545/VD55177927', 'http://www.acme.com/SH55126545/VD55177927', 'http://www.acme.com/SH55126545/VD55177927', 'http://www.acme.com/SH55126545/VD55177927', 'http://www.acme.com/SH55126545/VD55177927', 'http://www.acme.com/SH55126545/VD55177927', 'http://www.acme.com/SH55126545/VD55177927', 'http://www.acme.com/SH55126545/VD55177927', 'http://www.acme.com/SH55126545/VD55177927', 'http://www.acme.com/SH559040/VD55175948', 'http://www.acme.com/SH559040/VD55175948', 'http://www.acme.com/SH559040/VD55175948', 'http://www.acme.com/SH559040/VD55175948', 'http://www.acme.com/SH559040/VD55175948'], ['http://www.acme.com/SH55126545/VD55177927', 'http://www.acme.com/SH55126545/VD55177927', 'http://www.acme.com/SH55126545/VD55177927', 'http://www.acme.com/SH55126545/VD55177927', 'http://www.acme.com/SH55126545/VD55177927', 'http://www.acme.com/SH55126545/VD55177927', 'http://www.acme.com/SH55126545/VD55179433', 'http://www.acme.com/SH55126545/VD55179433', 'http://www.acme.com/SH55126545/VD55179433', 'http://www.acme.com/SH55126545/VD55179433', 'http://www.acme.com/SH55126545/VD55179433', 'http://www.acme.com/SH55126545/VD55179433', 'http://www.acme.com/SH559040/VD55175948', 'http://www.acme.com/SH559040/VD55175948', 'http://www.acme.com/SH559040/VD55175948', 'http://www.acme.com/SH55126545/VD55179433', 'http://www.acme.com/SH55126545/VD55179433'], ['http://www.acme.com/SH55126545/VD55170364', 'http://www.acme.com/SH55126545/VD55170364', 'http://www.acme.com/SH55126545/VD55170364', 'http://www.acme.com/SH55126545/VD55170364', 'http://www.acme.com/SH55126545/VD55170364', 'http://www.acme.com/SH55126545/VD55170364', 'http://www.acme.com/SH55126545/VD55173061', 'http://www.acme.com/SH55126545/VD55173061', 'http://www.acme.com/SH55126545/VD55173061', 'http://www.acme.com/SH55126545/VD55173061', 'http://www.acme.com/SH55126545/VD55170364', 'http://www.acme.com/SH55126545/VD55170364', 'http://www.acme.com/SH55126545/VD55170364', 'http://www.acme.com/SH55126545/VD55177927', 'http://www.acme.com/SH559040/VD55175948', 'http://www.acme.com/SH559040/VD55175948', 'http://www.acme.com/SH5580165/VD55173281', 'http://www.acme.com/SH5580165/VD55173281', 'http://www.acme.com/SH5580165/VD55173281', 'http://www.acme.com/SH55126545/VD55177927', 'http://www.acme.com/SH55126545/VD55177927', 'http://www.acme.com/SH55126545/VD55177927', 'http://www.acme.com/SH55126545/VD55177927', 'http://www.acme.com/SH55126545/VD55177927', 'http://www.acme.com/SH55126545/VD55177927', 'http://www.acme.com/SH55126545/VD55173061'], ['http://www.acme.com/SH559040/VD55175948', 'http://www.acme.com/SH55126545/VD55177927', 'http://www.acme.com/SH559040/VD55175948', 'http://www.acme.com/SH559040/VD55175948', 'http://www.acme.com/SH559040/VD55175948', 'http://www.acme.com/SH55126545/VD55177927', 'http://www.acme.com/SH55126545/VD55177927'], ['http://www.acme.com/SH55126545/VD55177927', 'http://www.acme.com/SH55126545/VD55177927', 'http://www.acme.com/SH55126545/VD55177927', 'http://www.acme.com/SH55126545/VD55177927', 'http://www.acme.com/SH559040/VD55175948', 'http://www.acme.com/SH559040/VD55175948', 'http://www.acme.com/SH559040/VD55175948', 'http://www.acme.com/SH55126545/VD55177927', 'http://www.acme.com/SH55126545/VD55177927', 'http://www.acme.com/SH55126545/VD55177927', 'http://www.acme.com/SH55126545/VD55177927', 'http://www.acme.com/SH55126545/VD55177927', 'http://www.acme.com/SH55126545/VD55177927', 'http://www.acme.com/SH55126545/VD55177927', 'http://www.acme.com/SH559040/VD55175948', 'http://www.acme.com/SH559040/VD55175948'], ['http://www.acme.com/SH55126545/VD55177927', 'http://www.acme.com/SH55126545/VD55177927', 'http://www.acme.com/SH55126545/VD55177927', 'http://www.acme.com/SH559040/VD55175948', 'http://www.acme.com/SH55126545/VD55177927', 'http://www.acme.com/SH55126545/VD55177927', 'http://www.acme.com/SH55126545/VD55177927', 'http://www.acme.com/SH559040/VD55175948', 'http://www.acme.com/SH559040/VD55175948'], ['http://www.acme.com/SH55126545/VD55177927', 'http://www.acme.com/SH55126545/VD55177927', 'http://www.acme.com/SH55126545/VD55177927', 'http://www.acme.com/SH55126545/VD55177927', 'http://www.acme.com/SH55126545/VD55177927', 'http://www.acme.com/SH55126545/VD55177927', 'http://www.acme.com/SH55126545/VD55177927', 'http://www.acme.com/SH55126545/VD55177927', 'http://www.acme.com/SH559040/VD55175948', 'http://www.acme.com/SH559040/VD55175948', 'http://www.acme.com/SH559040/VD55175948', 'http://www.acme.com/SH55126545/VD55173061', 'http://www.acme.com/SH55126545/VD55173061', 'http://www.acme.com/SH55126545/VD55177927', 'http://www.acme.com/SH55126545/VD55177927', 'http://www.acme.com/SH55126545/VD55177927', 'http://www.acme.com/SH55126545/VD55177927', 'http://www.acme.com/SH55126545/VD55177927', 'http://www.acme.com/SH55126545/VD55177927', 'http://www.acme.com/SH55126545/VD55177927', 'http://www.acme.com/SH55126545/VD55173061', 'http://www.acme.com/SH55126545/VD55173061'], ['http://www.acme.com/SH55126545/VD55177927', 'http://www.acme.com/SH55126545/VD55177927', 'http://www.acme.com/SH55126545/VD55177927', 'http://www.acme.com/SH55126545/VD55177927', 'http://www.acme.com/SH55126545/VD55177927', 'http://www.acme.com/SH55126545/VD55177927', 'http://www.acme.com/SH55126545/VD55177927', 'http://www.acme.com/SH55126545/VD55177927', 'http://www.acme.com/SH55126545/VD55177927', 'http://www.acme.com/SH55126545/VD55177927', 'http://www.acme.com/SH55126545/VD55177927', 'http://www.acme.com/SH55126545/VD55177927', 'http://www.acme.com/SH559040/VD55175948', 'http://www.acme.com/SH559040/VD55175948', 'http://www.acme.com/SH559040/VD55175948', 'http://www.acme.com/SH559040/VD55175948', 'http://www.acme.com/SH55126545/VD55177927', 'http://www.acme.com/SH55126545/VD55177927', 'http://www.acme.com/SH55126545/VD55177927', 'http://www.acme.com/SH55126545/VD55177927', 'http://www.acme.com/SH55126545/VD55177927'], ['http://www.acme.com/SH55126545/VD55177927', 'http://www.acme.com/SH55126545/VD55177927', 'http://www.acme.com/SH55126545/VD55177927', 'http://www.acme.com/SH55126545/VD55177927', 'http://www.acme.com/SH55126545/VD55177927', 'http://www.acme.com/SH55126545/VD55177927', 'http://www.acme.com/SH55126545/VD55177927', 'http://www.acme.com/SH55126545/VD55177927', 'http://www.acme.com/SH55126545/VD55177927', 'http://www.acme.com/SH55126545/VD55177927', 'http://www.acme.com/SH55126545/VD55177927', 'http://www.acme.com/SH55126545/VD55170364', 'http://www.acme.com/SH55126545/VD55173061', 'http://www.acme.com/SH55126545/VD55173061', 'http://www.acme.com/SH55126545/VD55173061', 'http://www.acme.com/SH55126545/VD55173061', 'http://www.acme.com/SH559040/VD55175948', 'http://www.acme.com/SH559040/VD55175948', 'http://www.acme.com/SH55126545/VD55177927', 'http://www.acme.com/SH55126545/VD55177927', 'http://www.acme.com/SH55126545/VD55177927', 'http://www.acme.com/SH55126545/VD55177927'], ['http://www.acme.com/SH55126545/VD55177927', 'http://www.acme.com/SH55126545/VD55177927', 'http://www.acme.com/SH55126545/VD55177927', 'http://www.acme.com/SH559040/VD55175948', 'http://www.acme.com/SH559040/VD55175948', 'http://www.acme.com/SH55126545/VD55177927', 'http://www.acme.com/SH55126545/VD55177927', 'http://www.acme.com/SH559040/VD55175948', 'http://www.acme.com/SH559040/VD55175948', 'http://www.acme.com/SH559040/VD55175948'], ['http://www.acme.com/SH55126545/VD55177927', 'http://www.acme.com/SH55126545/VD55177927', 'http://www.acme.com/SH55126545/VD55177927', 'http://www.acme.com/SH559040/VD55175948', 'http://www.acme.com/SH559040/VD55175948', 'http://www.acme.com/SH55126545/VD55177927', 'http://www.acme.com/SH55126545/VD55177927', 'http://www.acme.com/SH559040/VD55175948', 'http://www.acme.com/SH559040/VD55175948', 'http://www.acme.com/SH559040/VD55175948'], ['http://www.acme.com/SH55126545/VD55177927', 'http://www.acme.com/SH55126545/VD55177927', 'http://www.acme.com/SH55126545/VD55177927', 'http://www.acme.com/SH55126545/VD55177927', 'http://www.acme.com/SH55126545/VD55177927', 'http://www.acme.com/SH55126545/VD55177927', 'http://www.acme.com/SH559040/VD55175948', 'http://www.acme.com/SH55126545/VD55179433', 'http://www.acme.com/SH55126545/VD55179433', 'http://www.acme.com/SH55126545/VD55179433', 'http://www.acme.com/SH559040/VD55175948', 'http://www.acme.com/SH559040/VD55175948', 'http://www.acme.com/SH559040/VD55175948', 'http://www.acme.com/SH559040/VD55175948', 'http://www.acme.com/SH55126545/VD55179433', 'http://www.acme.com/SH55126545/VD55179433', 'http://www.acme.com/SH55126545/VD55179433', 'http://www.acme.com/SH55126545/VD55179433', 'http://www.acme.com/SH55126545/VD55179433'], ['http://www.acme.com/SH55126545/VD55177927', 'http://www.acme.com/SH55126545/VD55177927', 'http://www.acme.com/SH55126545/VD55177927', 'http://www.acme.com/SH55126545/VD55177927', 'http://www.acme.com/SH55126545/VD55177927', 'http://www.acme.com/SH55126545/VD55177927', 'http://www.acme.com/SH559040/VD55175948', 'http://www.acme.com/SH559040/VD55175948', 'http://www.acme.com/SH559040/VD55175948'], ['http://www.acme.com/SH55126545/VD55177927', 'http://www.acme.com/SH55126545/VD55177927', 'http://www.acme.com/SH55126545/VD55177927', 'http://www.acme.com/SH55126545/VD55177927', 'http://www.acme.com/SH55126545/VD55177927', 'http://www.acme.com/SH55126545/VD55177927', 'http://www.acme.com/SH55126545/VD55177927', 'http://www.acme.com/SH55126545/VD55177927', 'http://www.acme.com/SH55126545/VD55177927', 'http://www.acme.com/SH55126545/VD55177927', 'http://www.acme.com/SH55126545/VD55177927', 'http://www.acme.com/SH55126545/VD55177927', 'http://www.acme.com/SH55126545/VD55179433', 'http://www.acme.com/SH55126545/VD55179433', 'http://www.acme.com/SH55126545/VD55179433', 'http://www.acme.com/SH55126545/VD55179433', 'http://www.acme.com/SH559040/VD55175948', 'http://www.acme.com/SH55126545/VD55179433', 'http://www.acme.com/SH55126545/VD55179433', 'http://www.acme.com/SH55126545/VD55179433', 'http://www.acme.com/SH55126545/VD55177927', 'http://www.acme.com/SH55126545/VD55177927', 'http://www.acme.com/SH55126545/VD55177927', 'http://www.acme.com/SH55126545/VD55177927', 'http://www.acme.com/SH55126545/VD55177927', 'http://www.acme.com/SH55126545/VD55177927', 'http://www.acme.com/SH55126545/VD55177927', 'http://www.acme.com/SH55126545/VD55177927', 'http://www.acme.com/SH55126545/VD55177927', 'http://www.acme.com/SH55126545/VD55177927', 'http://www.acme.com/SH55126545/VD55177927', 'http://www.acme.com/SH55126545/VD55177927', 'http://www.acme.com/SH55126545/VD55177927'], ['http://www.acme.com/SH55126545/VD55177927', 'http://www.acme.com/SH559040/VD55175948', 'http://www.acme.com/SH559040/VD55175948', 'http://www.acme.com/SH559040/VD55175948', 'http://www.acme.com/SH559040/VD55175948', 'http://www.acme.com/SH55126545/VD55179433', 'http://www.acme.com/SH55126545/VD55173061', 'http://www.acme.com/SH55126545/VD55173061', 'http://www.acme.com/SH55126545/VD55173061', 'http://www.acme.com/SH559040/VD55175948', 'http://www.acme.com/SH559040/VD55175948', 'http://www.acme.com/SH559040/VD55175948', 'http://www.acme.com/SH559040/VD55175948', 'http://www.acme.com/SH559040/VD55175948', 'http://www.acme.com/SH559040/VD55175948', 'http://www.acme.com/SH55126545/VD55177927', 'http://www.acme.com/SH559040/VD55175948', 'http://www.acme.com/SH559040/VD55175948', 'http://www.acme.com/SH55126545/VD55179433', 'http://www.acme.com/SH55126545/VD55177927', 'http://www.acme.com/SH55126545/VD55179433', 'http://www.acme.com/SH559040/VD55175948', 'http://www.acme.com/SH559040/VD55175948', 'http://www.acme.com/SH55126545/VD55179433', 'http://www.acme.com/SH55126545/VD55179433', 'http://www.acme.com/SH55126545/VD55177927', 'http://www.acme.com/SH559040/VD55175948', 'http://www.acme.com/SH559040/VD55175948', 'http://www.acme.com/SH559040/VD55175948', 'http://www.acme.com/SH55126545/VD55179433', 'http://www.acme.com/SH55126545/VD55177927', 'http://www.acme.com/SH55126545/VD55179433', 'http://www.acme.com/SH55126545/VD55179433', 'http://www.acme.com/SH55126545/VD55177927', 'http://www.acme.com/SH55126545/VD55177927', 'http://www.acme.com/SH55126545/VD55179433'], ['http://www.acme.com/SH55126545/VD55177927', 'http://www.acme.com/SH55126545/VD55177927', 'http://www.acme.com/SH55126545/VD55177927', 'http://www.acme.com/SH55126545/VD55177927', 'http://www.acme.com/SH55126545/VD55177927', 'http://www.acme.com/SH55126545/VD55177927', 'http://www.acme.com/SH559040/VD55175948', 'http://www.acme.com/SH559040/VD55175948', 'http://www.acme.com/SH559040/VD55175948', 'http://www.acme.com/SH559040/VD55175948'], ['http://www.acme.com/SH55126545/VD55177927', 'http://www.acme.com/SH55126545/VD55179433', 'http://www.acme.com/SH55126545/VD55179433', 'http://www.acme.com/SH55126545/VD55179433', 'http://www.acme.com/SH55126545/VD55177927', 'http://www.acme.com/SH55126545/VD55177927', 'http://www.acme.com/SH55126545/VD55177927', 'http://www.acme.com/SH55126545/VD55177927', 'http://www.acme.com/SH55126545/VD55177927', 'http://www.acme.com/SH559040/VD55175948', 'http://www.acme.com/SH559040/VD55175948', 'http://www.acme.com/SH55126545/VD55177927', 'http://www.acme.com/SH559040/VD55175948', 'http://www.acme.com/SH559040/VD55175948', 'http://www.acme.com/SH55126545/VD55179433', 'http://www.acme.com/SH55126545/VD55177927', 'http://www.acme.com/SH559040/VD55175948', 'http://www.acme.com/SH559040/VD55175948', 'http://www.acme.com/SH55126545/VD55179433', 'http://www.acme.com/SH55126545/VD55179433', 'http://www.acme.com/SH55126545/VD55179433', 'http://www.acme.com/SH55126545/VD55179433', 'http://www.acme.com/SH55126545/VD55179433', 'http://www.acme.com/SH55126545/VD55179433', 'http://www.acme.com/SH559040/VD55175948', 'http://www.acme.com/SH559040/VD55175948'], ['http://www.acme.com/SH559040/VD55175948', 'http://www.acme.com/SH559040/VD55175948', 'http://www.acme.com/SH559040/VD55175948', 'http://www.acme.com/SH55126545/VD55177927', 'http://www.acme.com/SH55126545/VD55177927', 'http://www.acme.com/SH55126545/VD55177927', 'http://www.acme.com/SH559040/VD55175948', 'http://www.acme.com/SH559040/VD55175948'], ['http://www.acme.com/SH559040/VD55175948', 'http://www.acme.com/SH55126545/VD55179433', 'http://www.acme.com/SH55126545/VD55177927', 'http://www.acme.com/SH55126545/VD55179433', 'http://www.acme.com/SH55126545/VD55179433', 'http://www.acme.com/SH559040/VD55175948', 'http://www.acme.com/SH55126545/VD55179433', 'http://www.acme.com/SH55126545/VD55179433', 'http://www.acme.com/SH55126545/VD55179433', 'http://www.acme.com/SH55126545/VD55179433'], ['http://www.acme.com/SH55126545/VD55179433', 'http://www.acme.com/SH55126545/VD55179433', 'http://www.acme.com/SH55126545/VD55179433', 'http://www.acme.com/SH55126545/VD55179433', 'http://www.acme.com/SH55126545/VD55177927', 'http://www.acme.com/SH55126545/VD55177927', 'http://www.acme.com/SH55126545/VD55177927', 'http://www.acme.com/SH55126545/VD55177927', 'http://www.acme.com/SH55126545/VD55177927', 'http://www.acme.com/SH55126545/VD55177927', 'http://www.acme.com/SH55126545/VD55177927', 'http://www.acme.com/SH559040/VD55175948', 'http://www.acme.com/SH55126545/VD55177927', 'http://www.acme.com/SH55126545/VD55177927', 'http://www.acme.com/SH55126545/VD55177927', 'http://www.acme.com/SH55126545/VD55177927', 'http://www.acme.com/SH55126545/VD55177927', 'http://www.acme.com/SH55126545/VD55177927', 'http://www.acme.com/SH55126545/VD55177927'], ['http://www.acme.com/SH55126545/VD55179433', 'http://www.acme.com/SH55126545/VD55179433', 'http://www.acme.com/SH55126545/VD55179433', 'http://www.acme.com/SH55126545/VD55177927', 'http://www.acme.com/SH55126545/VD55177927', 'http://www.acme.com/SH55126545/VD55177927', 'http://www.acme.com/SH55126545/VD55177927', 'http://www.acme.com/SH55126545/VD55177927', 'http://www.acme.com/SH55126545/VD55177927', 'http://www.acme.com/SH55126545/VD55177927', 'http://www.acme.com/SH55126545/VD55177927', 'http://www.acme.com/SH559040/VD55175948', 'http://www.acme.com/SH559040/VD55175948', 'http://www.acme.com/SH55126545/VD55179433', 'http://www.acme.com/SH55126545/VD55179433', 'http://www.acme.com/SH55126545/VD55179433', 'http://www.acme.com/SH55126545/VD55179433'], ['http://www.acme.com/SH55126545/VD55179433', 'http://www.acme.com/SH55126545/VD55179433', 'http://www.acme.com/SH55126545/VD55179433', 'http://www.acme.com/SH55126545/VD55177927', 'http://www.acme.com/SH55126545/VD55177927', 'http://www.acme.com/SH55126545/VD55177927', 'http://www.acme.com/SH55126545/VD55177927', 'http://www.acme.com/SH55126545/VD55177927', 'http://www.acme.com/SH55126545/VD55177927', 'http://www.acme.com/SH55126545/VD55177927', 'http://www.acme.com/SH55126545/VD55177927', 'http://www.acme.com/SH559040/VD55175948', 'http://www.acme.com/SH559040/VD55175948', 'http://www.acme.com/SH55126545/VD55179433', 'http://www.acme.com/SH55126545/VD55179433', 'http://www.acme.com/SH55126545/VD55179433', 'http://www.acme.com/SH55126545/VD55179433'], ['http://www.acme.com/SH55126545/VD55179433', 'http://www.acme.com/SH55126545/VD55179433', 'http://www.acme.com/SH55126545/VD55177927', 'http://www.acme.com/SH559040/VD55175948', 'http://www.acme.com/SH559040/VD55175948', 'http://www.acme.com/SH559040/VD55175948', 'http://www.acme.com/SH55126545/VD55177927', 'http://www.acme.com/SH55126545/VD55177927', 'http://www.acme.com/SH55126545/VD55179433'], ['http://www.acme.com/SH559040/VD55175948', 'http://www.acme.com/SH559040/VD55175948', 'http://www.acme.com/SH55126545/VD55177927', 'http://www.acme.com/SH55126545/VD55177927', 'http://www.acme.com/SH559040/VD55175948', 'http://www.acme.com/SH55126545/VD55177927', 'http://www.acme.com/SH55126545/VD55177927', 'http://www.acme.com/SH55126545/VD55177927'], ['http://www.acme.com/SH559040/VD55175948', 'http://www.acme.com/SH559040/VD55175948', 'http://www.acme.com/SH55126545/VD55177927', 'http://www.acme.com/SH55126545/VD55177927', 'http://www.acme.com/SH559040/VD55175948', 'http://www.acme.com/SH55126545/VD55177927', 'http://www.acme.com/SH55126545/VD55177927', 'http://www.acme.com/SH55126545/VD55177927'], ['http://www.acme.com/SH559040/VD55175948', 'http://www.acme.com/SH559040/VD55175948', 'http://www.acme.com/SH559040/VD55175948', 'http://www.acme.com/SH55126545/VD55177927', 'http://www.acme.com/SH55126545/VD55177927', 'http://www.acme.com/SH55126545/VD55177927', 'http://www.acme.com/SH55126545/VD55177927', 'http://www.acme.com/SH559040/VD55175948', 'http://www.acme.com/SH559040/VD55175948', 'http://www.acme.com/SH55126545/VD55177927', 'http://www.acme.com/SH55126545/VD55177927'], ['http://www.acme.com/SH559040/VD55175948', 'http://www.acme.com/SH559040/VD55175948', 'http://www.acme.com/SH55126545/VD55177927', 'http://www.acme.com/SH55126545/VD55177927', 'http://www.acme.com/SH55126545/VD55177927', 'http://www.acme.com/SH55126545/VD55177927', 'http://www.acme.com/SH55126545/VD55177927', 'http://www.acme.com/SH55126545/VD55177927', 'http://www.acme.com/SH55126545/VD55177927', 'http://www.acme.com/SH55126545/VD55177927', 'http://www.acme.com/SH559040/VD55175948', 'http://www.acme.com/SH559040/VD55175948', 'http://www.acme.com/SH55126545/VD55177927', 'http://www.acme.com/SH55126545/VD55177927', 'http://www.acme.com/SH55126545/VD55177927', 'http://www.acme.com/SH55126545/VD55177927', 'http://www.acme.com/SH55126545/VD55177927'], ['http://www.acme.com/SH55126545/VD55179433', 'http://www.acme.com/SH55126545/VD55179433', 'http://www.acme.com/SH55126545/VD55179433', 'http://www.acme.com/SH55126545/VD55177927', 'http://www.acme.com/SH55126545/VD55177927', 'http://www.acme.com/SH55126545/VD55177927', 'http://www.acme.com/SH55126545/VD55177927', 'http://www.acme.com/SH55126545/VD55177927', 'http://www.acme.com/SH55126545/VD55177927', 'http://www.acme.com/SH55126545/VD55179433', 'http://www.acme.com/SH55126545/VD55179433', 'http://www.acme.com/SH55126545/VD55179433', 'http://www.acme.com/SH559040/VD55175948', 'http://www.acme.com/SH55126545/VD55177927', 'http://www.acme.com/SH55126545/VD55177927', 'http://www.acme.com/SH55126545/VD55177927'], ['http://www.acme.com/SH55126545/VD55179433', 'http://www.acme.com/SH55126545/VD55179433', 'http://www.acme.com/SH55126545/VD55179433', 'http://www.acme.com/SH55126545/VD55179433', 'http://www.acme.com/SH55126545/VD55179433', 'http://www.acme.com/SH55126545/VD55179433', 'http://www.acme.com/SH55126545/VD55179433', 'http://www.acme.com/SH55126545/VD55179433', 'http://www.acme.com/SH55126545/VD55179433', 'http://www.acme.com/SH55126545/VD55179433', 'http://www.acme.com/SH55126545/VD55179433', 'http://www.acme.com/SH55126545/VD55179433', 'http://www.acme.com/SH55126545/VD55179433', 'http://www.acme.com/SH55126545/VD55179433', 'http://www.acme.com/SH55126545/VD55179433', 'http://www.acme.com/SH55126545/VD55179433', 'http://www.acme.com/SH55126545/VD55177927', 'http://www.acme.com/SH55126545/VD55173061', 'http://www.acme.com/SH55126545/VD55173061', 'http://www.acme.com/SH55126545/VD55177927', 'http://www.acme.com/SH55126545/VD55177927', 'http://www.acme.com/SH55126545/VD55177927', 'http://www.acme.com/SH55126545/VD55179433', 'http://www.acme.com/SH55126545/VD55179433', 'http://www.acme.com/SH55126545/VD55179433', 'http://www.acme.com/SH55126545/VD55179433', 'http://www.acme.com/SH55126545/VD55179433', 'http://www.acme.com/SH55126545/VD55179433', 'http://www.acme.com/SH55126545/VD55179433', 'http://www.acme.com/SH55126545/VD55179433', 'http://www.acme.com/SH55126545/VD55179433', 'http://www.acme.com/SH55126545/VD55179433', 'http://www.acme.com/SH55126545/VD55177927', 'http://www.acme.com/SH55126545/VD55177927', 'http://www.acme.com/SH55126545/VD55177927', 'http://www.acme.com/SH55126545/VD55173061', 'http://www.acme.com/SH55126545/VD55173061', 'http://www.acme.com/SH55126545/VD55173061', 'http://www.acme.com/SH55126545/VD55173061', 'http://www.acme.com/SH55126545/VD55177927', 'http://www.acme.com/SH55126545/VD55173061', 'http://www.acme.com/SH55126545/VD55173061', 'http://www.acme.com/SH55126545/VD55177927', 'http://www.acme.com/SH55126545/VD55173061', 'http://www.acme.com/SH55126545/VD55177927', 'http://www.acme.com/SH55126545/VD55173061', 'http://www.acme.com/SH55126545/VD55179433', 'http://www.acme.com/SH55126545/VD55179433', 'http://www.acme.com/SH559040/VD55175948', 'http://www.acme.com/SH559040/VD55175948', 'http://www.acme.com/SH559040/VD55175948', 'http://www.acme.com/SH559040/VD55175948'], ['http://www.acme.com/SH559040/VD55175948', 'http://www.acme.com/SH559040/VD55175948', 'http://www.acme.com/SH559040/VD55175948', 'http://www.acme.com/SH559040/VD55175948', 'http://www.acme.com/SH55126545/VD55179433', 'http://www.acme.com/SH55126545/VD55177927', 'http://www.acme.com/SH55126545/VD55177927', 'http://www.acme.com/SH55126545/VD55177927', 'http://www.acme.com/SH55126545/VD55177927', 'http://www.acme.com/SH55126545/VD55177927', 'http://www.acme.com/SH55126545/VD55179433', 'http://www.acme.com/SH55126545/VD55179433', 'http://www.acme.com/SH55126545/VD55179433', 'http://www.acme.com/SH55126545/VD55179433', 'http://www.acme.com/SH559040/VD55175948', 'http://www.acme.com/SH559040/VD55175948', 'http://www.acme.com/SH55126545/VD55179433', 'http://www.acme.com/SH55126545/VD55179433', 'http://www.acme.com/SH55126545/VD55179433', 'http://www.acme.com/SH55126545/VD55179433', 'http://www.acme.com/SH55126545/VD55179433', 'http://www.acme.com/SH55126545/VD55179433', 'http://www.acme.com/SH55126545/VD55179433', 'http://www.acme.com/SH55126545/VD55177927', 'http://www.acme.com/SH55126545/VD55177927', 'http://www.acme.com/SH55126545/VD55177927', 'http://www.acme.com/SH55126545/VD55177927', 'http://www.acme.com/SH55126545/VD55177927'], ['http://www.acme.com/SH559040/VD55175948', 'http://www.acme.com/SH559040/VD55175948', 'http://www.acme.com/SH559040/VD55175948', 'http://www.acme.com/SH559040/VD55175948', 'http://www.acme.com/SH55126545/VD55179433', 'http://www.acme.com/SH55126545/VD55177927', 'http://www.acme.com/SH55126545/VD55177927', 'http://www.acme.com/SH55126545/VD55177927', 'http://www.acme.com/SH55126545/VD55177927', 'http://www.acme.com/SH55126545/VD55177927', 'http://www.acme.com/SH55126545/VD55179433', 'http://www.acme.com/SH55126545/VD55179433', 'http://www.acme.com/SH55126545/VD55179433', 'http://www.acme.com/SH55126545/VD55179433', 'http://www.acme.com/SH559040/VD55175948', 'http://www.acme.com/SH559040/VD55175948', 'http://www.acme.com/SH55126545/VD55179433', 'http://www.acme.com/SH55126545/VD55179433', 'http://www.acme.com/SH55126545/VD55179433', 'http://www.acme.com/SH55126545/VD55179433', 'http://www.acme.com/SH55126545/VD55179433', 'http://www.acme.com/SH55126545/VD55179433', 'http://www.acme.com/SH55126545/VD55179433', 'http://www.acme.com/SH55126545/VD55177927', 'http://www.acme.com/SH55126545/VD55177927', 'http://www.acme.com/SH55126545/VD55177927', 'http://www.acme.com/SH55126545/VD55177927', 'http://www.acme.com/SH55126545/VD55177927'], ['http://www.acme.com/SH5580165/VD55156528', 'http://www.acme.com/SH55126545/VD55177927', 'http://www.acme.com/SH55126545/VD55177927', 'http://www.acme.com/SH559040/VD55175948', 'http://www.acme.com/SH559040/VD55175948', 'http://www.acme.com/SH559040/VD55175948', 'http://www.acme.com/SH559040/VD55175948', 'http://www.acme.com/SH559040/VD55175948', 'http://www.acme.com/SH55126545/VD55177927', 'http://www.acme.com/SH55126545/VD55177927', 'http://www.acme.com/SH55126545/VD55177927', 'http://www.acme.com/SH55126545/VD55177927', 'http://www.acme.com/SH55126545/VD55177927', 'http://www.acme.com/SH55126545/VD55177927', 'http://www.acme.com/SH55126545/VD55177927', 'http://www.acme.com/SH5580165/VD55156528'], ['http://www.acme.com/SH5580165/VD55156528', 'http://www.acme.com/SH55126545/VD55177927', 'http://www.acme.com/SH55126545/VD55177927', 'http://www.acme.com/SH559040/VD55175948', 'http://www.acme.com/SH559040/VD55175948', 'http://www.acme.com/SH559040/VD55175948', 'http://www.acme.com/SH559040/VD55175948', 'http://www.acme.com/SH559040/VD55175948', 'http://www.acme.com/SH55126545/VD55177927', 'http://www.acme.com/SH55126545/VD55177927', 'http://www.acme.com/SH55126545/VD55177927', 'http://www.acme.com/SH55126545/VD55177927', 'http://www.acme.com/SH55126545/VD55177927', 'http://www.acme.com/SH55126545/VD55177927', 'http://www.acme.com/SH55126545/VD55177927', 'http://www.acme.com/SH5580165/VD55156528'], ['http://www.acme.com/SH5580165/VD55156528', 'http://www.acme.com/SH55126545/VD55177927', 'http://www.acme.com/SH55126545/VD55177927', 'http://www.acme.com/SH559040/VD55175948', 'http://www.acme.com/SH559040/VD55175948', 'http://www.acme.com/SH559040/VD55175948', 'http://www.acme.com/SH559040/VD55175948', 'http://www.acme.com/SH559040/VD55175948', 'http://www.acme.com/SH55126545/VD55177927', 'http://www.acme.com/SH55126545/VD55177927', 'http://www.acme.com/SH55126545/VD55177927', 'http://www.acme.com/SH55126545/VD55177927', 'http://www.acme.com/SH55126545/VD55177927', 'http://www.acme.com/SH55126545/VD55177927', 'http://www.acme.com/SH55126545/VD55177927', 'http://www.acme.com/SH5580165/VD55156528'], ['http://www.acme.com/SH55126545/VD55177927', 'http://www.acme.com/SH55126545/VD55177927', 'http://www.acme.com/SH55126545/VD55177927', 'http://www.acme.com/SH55126545/VD55177927', 'http://www.acme.com/SH55126545/VD55177927', 'http://www.acme.com/SH55126545/VD55177927', 'http://www.acme.com/SH55126545/VD55177927', 'http://www.acme.com/SH55126545/VD55177927', 'http://www.acme.com/SH55126545/VD55177927', 'http://www.acme.com/SH55126545/VD55177927', 'http://www.acme.com/SH55126545/VD55177927', 'http://www.acme.com/SH55126545/VD55177927', 'http://www.acme.com/SH55126545/VD55177927', 'http://www.acme.com/SH55126545/VD55177927', 'http://www.acme.com/SH559040/VD55175948', 'http://www.acme.com/SH559040/VD55175948', 'http://www.acme.com/SH559040/VD55175948'], ['http://www.acme.com/SH55126545/VD55177927', 'http://www.acme.com/SH55126545/VD55177927', 'http://www.acme.com/SH55126545/VD55177927', 'http://www.acme.com/SH55126545/VD55177927', 'http://www.acme.com/SH55126545/VD55177927', 'http://www.acme.com/SH559040/VD55175948'], ['http://www.acme.com/SH55126545/VD55177927', 'http://www.acme.com/SH55126545/VD55177927', 'http://www.acme.com/SH55126545/VD55177927', 'http://www.acme.com/SH55126545/VD55177927', 'http://www.acme.com/SH55126545/VD55177927', 'http://www.acme.com/SH559040/VD55175948'], ['http://www.acme.com/SH55126545/VD55177927', 'http://www.acme.com/SH55126545/VD55177927', 'http://www.acme.com/SH55126545/VD55177927', 'http://www.acme.com/SH55126545/VD55177927', 'http://www.acme.com/SH55126545/VD55177927', 'http://www.acme.com/SH559040/VD55175948'], ['http://www.acme.com/SH559040/VD55175948', 'http://www.acme.com/SH55126545/VD55177927', 'http://www.acme.com/SH559040/VD55175948', 'http://www.acme.com/SH55126545/VD55177927', 'http://www.acme.com/SH55126545/VD55177927', 'http://www.acme.com/SH55126545/VD55177927', 'http://www.acme.com/SH55126545/VD55177927', 'http://www.acme.com/SH55126545/VD55177927', 'http://www.acme.com/SH55126545/VD55177927', 'http://www.acme.com/SH55126545/VD55177927', 'http://www.acme.com/SH55126545/VD55177927', 'http://www.acme.com/SH55126545/VD55177927', 'http://www.acme.com/SH55126545/VD55177927', 'http://www.acme.com/SH55126545/VD55177927', 'http://www.acme.com/SH55126545/VD55177927', 'http://www.acme.com/SH55126545/VD55177927', 'http://www.acme.com/SH55126545/VD55177927'], ['http://www.acme.com/SH559040/VD55175948', 'http://www.acme.com/SH55126545/VD55177927', 'http://www.acme.com/SH55126545/VD55177927', 'http://www.acme.com/SH55126545/VD55177927', 'http://www.acme.com/SH55126545/VD55177927', 'http://www.acme.com/SH55126545/VD55177927', 'http://www.acme.com/SH55126545/VD55177927', 'http://www.acme.com/SH55126545/VD55177927', 'http://www.acme.com/SH55126545/VD55177927', 'http://www.acme.com/SH55126545/VD55177927', 'http://www.acme.com/SH55126545/VD55177927', 'http://www.acme.com/SH55126545/VD55177927', 'http://www.acme.com/SH55126545/VD55177927', 'http://www.acme.com/SH55126545/VD55177927', 'http://www.acme.com/SH55126545/VD55177927', 'http://www.acme.com/SH55126545/VD55177927', 'http://www.acme.com/SH559040/VD55175948', 'http://www.acme.com/SH559040/VD55175948', 'http://www.acme.com/SH559040/VD55175948'], ['http://www.acme.com/SH559040/VD55175948', 'http://www.acme.com/SH55126545/VD55177927', 'http://www.acme.com/SH55126545/VD55177927', 'http://www.acme.com/SH55126545/VD55177927', 'http://www.acme.com/SH55126545/VD55177927', 'http://www.acme.com/SH55126545/VD55177927', 'http://www.acme.com/SH55126545/VD55177927', 'http://www.acme.com/SH55126545/VD55177927', 'http://www.acme.com/SH559040/VD55175948', 'http://www.acme.com/SH559040/VD55175948', 'http://www.acme.com/SH559040/VD55175948', 'http://www.acme.com/SH55126545/VD55177927', 'http://www.acme.com/SH55126545/VD55177927', 'http://www.acme.com/SH55126545/VD55177927', 'http://www.acme.com/SH55126545/VD55177927', 'http://www.acme.com/SH55126545/VD55177927', 'http://www.acme.com/SH55126545/VD55177927', 'http://www.acme.com/SH55126545/VD55177927', 'http://www.acme.com/SH55126545/VD55177927', 'http://www.acme.com/SH55126545/VD55177927', 'http://www.acme.com/SH55126545/VD55177927', 'http://www.acme.com/SH55126545/VD55177927', 'http://www.acme.com/SH55126545/VD55177927', 'http://www.acme.com/SH55126545/VD55177927'], ['http://www.acme.com/SH559040/VD55175948', 'http://www.acme.com/SH55126545/VD55177927', 'http://www.acme.com/SH55126545/VD55177927', 'http://www.acme.com/SH55126545/VD55177927', 'http://www.acme.com/SH55126545/VD55177927', 'http://www.acme.com/SH55126545/VD55177927', 'http://www.acme.com/SH55126545/VD55177927', 'http://www.acme.com/SH55126545/VD55177927', 'http://www.acme.com/SH559040/VD55175948', 'http://www.acme.com/SH559040/VD55175948', 'http://www.acme.com/SH559040/VD55175948', 'http://www.acme.com/SH55126545/VD55177927', 'http://www.acme.com/SH55126545/VD55177927', 'http://www.acme.com/SH55126545/VD55177927', 'http://www.acme.com/SH55126545/VD55177927', 'http://www.acme.com/SH55126545/VD55177927', 'http://www.acme.com/SH55126545/VD55177927', 'http://www.acme.com/SH55126545/VD55177927', 'http://www.acme.com/SH55126545/VD55177927', 'http://www.acme.com/SH55126545/VD55177927', 'http://www.acme.com/SH55126545/VD55177927', 'http://www.acme.com/SH55126545/VD55177927', 'http://www.acme.com/SH55126545/VD55177927', 'http://www.acme.com/SH55126545/VD55177927'], ['http://www.acme.com/SH55126545/VD55177927', 'http://www.acme.com/SH55126545/VD55177927', 'http://www.acme.com/SH559040/VD55175948', 'http://www.acme.com/SH559040/VD55175948', 'http://www.acme.com/SH559040/VD55175948', 'http://www.acme.com/SH55126545/VD55177927', 'http://www.acme.com/SH55126545/VD55177927', 'http://www.acme.com/SH55126545/VD55177927', 'http://www.acme.com/SH559040/VD55175948', 'http://www.acme.com/SH559040/VD55175948', 'http://www.acme.com/SH559040/VD55175948'], ['http://www.acme.com/SH55126545/VD55177927', 'http://www.acme.com/SH55126545/VD55177927', 'http://www.acme.com/SH55126545/VD55177927', 'http://www.acme.com/SH55126545/VD55177927', 'http://www.acme.com/SH55126545/VD55177927', 'http://www.acme.com/SH55126545/VD55177927', 'http://www.acme.com/SH55126545/VD55177927', 'http://www.acme.com/SH55126545/VD55177927', 'http://www.acme.com/SH55126545/VD55177927', 'http://www.acme.com/SH55126545/VD55177927', 'http://www.acme.com/SH559040/VD55175948', 'http://www.acme.com/SH559040/VD55175948', 'http://www.acme.com/SH559040/VD55175948', 'http://www.acme.com/SH55126545/VD55177927', 'http://www.acme.com/SH55126545/VD55177927', 'http://www.acme.com/SH55126545/VD55177927', 'http://www.acme.com/SH55126545/VD55177927'], ['http://www.acme.com/SH55126545/VD55177927', 'http://www.acme.com/SH55126545/VD55177927', 'http://www.acme.com/SH55126545/VD55177927', 'http://www.acme.com/SH55126545/VD55177927', 'http://www.acme.com/SH55126545/VD55177927', 'http://www.acme.com/SH55126545/VD55177927', 'http://www.acme.com/SH55126545/VD55177927', 'http://www.acme.com/SH55126545/VD55177927', 'http://www.acme.com/SH55126545/VD55177927', 'http://www.acme.com/SH55126545/VD55177927', 'http://www.acme.com/SH559040/VD55175948', 'http://www.acme.com/SH559040/VD55175948', 'http://www.acme.com/SH559040/VD55175948', 'http://www.acme.com/SH55126545/VD55177927', 'http://www.acme.com/SH55126545/VD55177927', 'http://www.acme.com/SH55126545/VD55177927', 'http://www.acme.com/SH55126545/VD55177927'], ['http://www.acme.com/SH55126545/VD55177927', 'http://www.acme.com/SH55126545/VD55177927', 'http://www.acme.com/SH55126545/VD55177927', 'http://www.acme.com/SH559040/VD55175948', 'http://www.acme.com/SH55126545/VD55179433', 'http://www.acme.com/SH55126545/VD55179433', 'http://www.acme.com/SH55126545/VD55177927', 'http://www.acme.com/SH55126545/VD55177927', 'http://www.acme.com/SH55126545/VD55177927', 'http://www.acme.com/SH55126545/VD55177927', 'http://www.acme.com/SH55126545/VD55177927', 'http://www.acme.com/SH55126545/VD55179433', 'http://www.acme.com/SH55126545/VD55179433', 'http://www.acme.com/SH55126545/VD55179433'], ['http://www.acme.com/SH55126545/VD55177927', 'http://www.acme.com/SH55126545/VD55177927', 'http://www.acme.com/SH55126545/VD55177927', 'http://www.acme.com/SH559040/VD55175948', 'http://www.acme.com/SH55126545/VD55179433', 'http://www.acme.com/SH55126545/VD55179433', 'http://www.acme.com/SH55126545/VD55177927', 'http://www.acme.com/SH55126545/VD55177927', 'http://www.acme.com/SH55126545/VD55177927', 'http://www.acme.com/SH55126545/VD55177927', 'http://www.acme.com/SH55126545/VD55177927', 'http://www.acme.com/SH55126545/VD55179433', 'http://www.acme.com/SH55126545/VD55179433', 'http://www.acme.com/SH55126545/VD55179433'], ['http://www.acme.com/SH55126545/VD55177927', 'http://www.acme.com/SH55126545/VD55177927', 'http://www.acme.com/SH55126545/VD55177927', 'http://www.acme.com/SH559040/VD55175948', 'http://www.acme.com/SH55126545/VD55179433', 'http://www.acme.com/SH55126545/VD55179433', 'http://www.acme.com/SH55126545/VD55177927', 'http://www.acme.com/SH55126545/VD55177927', 'http://www.acme.com/SH55126545/VD55177927', 'http://www.acme.com/SH55126545/VD55177927', 'http://www.acme.com/SH55126545/VD55177927', 'http://www.acme.com/SH55126545/VD55179433', 'http://www.acme.com/SH55126545/VD55179433', 'http://www.acme.com/SH55126545/VD55179433'], ['http://www.acme.com/SH55126545/VD55177927', 'http://www.acme.com/SH559040/VD55175948', 'http://www.acme.com/SH559040/VD55175948', 'http://www.acme.com/SH559040/VD55175948', 'http://www.acme.com/SH55126545/VD55173061', 'http://www.acme.com/SH55126545/VD55173061', 'http://www.acme.com/SH55126545/VD55173061', 'http://www.acme.com/SH55126545/VD55173061'], ['http://www.acme.com/SH55126545/VD55177927', 'http://www.acme.com/SH559040/VD55175948', 'http://www.acme.com/SH55126545/VD55177927'], ['http://www.acme.com/SH55126545/VD55177927', 'http://www.acme.com/SH55126545/VD55177927', 'http://www.acme.com/SH55126545/VD55177927', 'http://www.acme.com/SH55126545/VD55177927', 'http://www.acme.com/SH55126545/VD55177927', 'http://www.acme.com/SH55126545/VD55177927', 'http://www.acme.com/SH55126545/VD55177927', 'http://www.acme.com/SH55126545/VD55177927', 'http://www.acme.com/SH55126545/VD55177927', 'http://www.acme.com/SH55126545/VD55177927', 'http://www.acme.com/SH55126545/VD55177927', 'http://www.acme.com/SH559040/VD55175948', 'http://www.acme.com/SH559040/VD55175948', 'http://www.acme.com/SH559040/VD55175948', 'http://www.acme.com/SH55126545/VD55173061', 'http://www.acme.com/SH55126545/VD55173061', 'http://www.acme.com/SH55126545/VD55173061', 'http://www.acme.com/SH55126545/VD55173061', 'http://www.acme.com/SH55126545/VD55173061', 'http://www.acme.com/SH55126545/VD55173061', 'http://www.acme.com/SH55126545/VD55173061', 'http://www.acme.com/SH55126545/VD55173061', 'http://www.acme.com/SH55126545/VD55177927', 'http://www.acme.com/SH55126545/VD55177927', 'http://www.acme.com/SH55126545/VD55177927', 'http://www.acme.com/SH55126545/VD55177927', 'http://www.acme.com/SH55126545/VD55177927', 'http://www.acme.com/SH55126545/VD55177927', 'http://www.acme.com/SH55126545/VD55177927', 'http://www.acme.com/SH55126545/VD55177927', 'http://www.acme.com/SH55126545/VD55177927', 'http://www.acme.com/SH55126545/VD55177927'], ['http://www.acme.com/SH55126545/VD55177927', 'http://www.acme.com/SH55126545/VD55177927', 'http://www.acme.com/SH559040/VD55175948', 'http://www.acme.com/SH55126545/VD55177927'], ['http://www.acme.com/SH559040/VD55175948', 'http://www.acme.com/SH55126545/VD55177927', 'http://www.acme.com/SH55126545/VD55177927', 'http://www.acme.com/SH55126545/VD55179433', 'http://www.acme.com/SH559040/VD55175948'], ['http://www.acme.com/SH559040/VD55175948', 'http://www.acme.com/SH55126545/VD55177927', 'http://www.acme.com/SH55126545/VD55177927', 'http://www.acme.com/SH55126545/VD55179433', 'http://www.acme.com/SH559040/VD55175948'], ['http://www.acme.com/SH559040/VD55175948', 'http://www.acme.com/SH55126545/VD55177927', 'http://www.acme.com/SH55126545/VD55177927', 'http://www.acme.com/SH55126545/VD55179433', 'http://www.acme.com/SH559040/VD55175948'], ['http://www.acme.com/SH559040/VD55175948', 'http://www.acme.com/SH55126545/VD55177927', 'http://www.acme.com/SH55126545/VD55177927', 'http://www.acme.com/SH55126545/VD55179433', 'http://www.acme.com/SH559040/VD55175948'], ['http://www.acme.com/SH55126545/VD55177927', 'http://www.acme.com/SH55126545/VD55177927', 'http://www.acme.com/SH55126545/VD55177927', 'http://www.acme.com/SH55126545/VD55177927', 'http://www.acme.com/SH55126545/VD55177927', 'http://www.acme.com/SH55126545/VD55177927', 'http://www.acme.com/SH559040/VD55175948', 'http://www.acme.com/SH559040/VD55175948'], ['http://www.acme.com/SH55126545/VD55177927', 'http://www.acme.com/SH55126545/VD55177927', 'http://www.acme.com/SH55126545/VD55177927', 'http://www.acme.com/SH55126545/VD55177927', 'http://www.acme.com/SH55126545/VD55177927', 'http://www.acme.com/SH55126545/VD55177927', 'http://www.acme.com/SH55126545/VD55177927', 'http://www.acme.com/SH55126545/VD55177927', 'http://www.acme.com/SH55126545/VD55177927', 'http://www.acme.com/SH55126545/VD55177927', 'http://www.acme.com/SH559040/VD55175948', 'http://www.acme.com/SH559040/VD55175948', 'http://www.acme.com/SH559040/VD55175948'], ['http://www.acme.com/SH559040/VD55175948', 'http://www.acme.com/SH55126545/VD55177927', 'http://www.acme.com/SH55126545/VD55177927', 'http://www.acme.com/SH55126545/VD55177927', 'http://www.acme.com/SH55126545/VD55177927', 'http://www.acme.com/SH55126545/VD55177927', 'http://www.acme.com/SH55126545/VD55177927', 'http://www.acme.com/SH559040/VD55175948', 'http://www.acme.com/SH559040/VD55175948', 'http://www.acme.com/SH55126545/VD55177927', 'http://www.acme.com/SH55126545/VD55177927', 'http://www.acme.com/SH55126545/VD55177927', 'http://www.acme.com/SH55126545/VD55177927', 'http://www.acme.com/SH559040/VD55175948'], ['http://www.acme.com/SH55126545/VD55177927', 'http://www.acme.com/SH55126545/VD55166807', 'http://www.acme.com/SH55126545/VD55149415', 'http://www.acme.com/SH55126545/VD55149415', 'http://www.acme.com/SH55126545/VD55149415', 'http://www.acme.com/SH55126545/VD55149415', 'http://www.acme.com/SH55126545/VD55149415', 'http://www.acme.com/SH559040/VD55175948'], ['http://www.acme.com/SH55126545/VD55177927', 'http://www.acme.com/SH55126545/VD55177927', 'http://www.acme.com/SH55126545/VD55177927', 'http://www.acme.com/SH55126545/VD55177927', 'http://www.acme.com/SH55126545/VD55177927', 'http://www.acme.com/SH55126545/VD55177927', 'http://www.acme.com/SH55126545/VD55177927', 'http://www.acme.com/SH559040/VD55175948', 'http://www.acme.com/SH559040/VD55175948', 'http://www.acme.com/SH559040/VD55175948', 'http://www.acme.com/SH559040/VD55175948', 'http://www.acme.com/SH559040/VD55175948', 'http://www.acme.com/SH559040/VD55175948', 'http://www.acme.com/SH55126545/VD55177927'], ['http://www.acme.com/SH55126545/VD55173061', 'http://www.acme.com/SH55126545/VD55173061', 'http://www.acme.com/SH55126545/VD55173061', 'http://www.acme.com/SH55126545/VD55173061', 'http://www.acme.com/SH55126545/VD55173061', 'http://www.acme.com/SH55126545/VD55177927', 'http://www.acme.com/SH55126545/VD55177927', 'http://www.acme.com/SH55126545/VD55177927', 'http://www.acme.com/SH55126545/VD55177927', 'http://www.acme.com/SH55126545/VD55177927', 'http://www.acme.com/SH55126545/VD55177927', 'http://www.acme.com/SH559040/VD55175948', 'http://www.acme.com/SH559040/VD55175948', 'http://www.acme.com/SH559040/VD55175948', 'http://www.acme.com/SH559040/VD55175948'], ['http://www.acme.com/SH55126545/VD55177927', 'http://www.acme.com/SH55126545/VD55177927', 'http://www.acme.com/SH55126545/VD55177927', 'http://www.acme.com/SH55126545/VD55177927', 'http://www.acme.com/SH55126545/VD55177927', 'http://www.acme.com/SH559040/VD55175948', 'http://www.acme.com/SH559040/VD55175948']]\n",
    "for i in b:\n",
    "    if(i == a):\n",
    "        print(True)"
   ]
  },
  {
   "cell_type": "code",
   "execution_count": 14,
   "metadata": {},
   "outputs": [
    {
     "data": {
      "text/plain": [
       "1"
      ]
     },
     "execution_count": 14,
     "metadata": {},
     "output_type": "execute_result"
    }
   ],
   "source": [
    "a = [[1,3,2], [1,2], [1,2,3]]\n",
    "a.count([1,2,3])"
   ]
  }
 ],
 "metadata": {
  "kernelspec": {
   "display_name": "Python 3",
   "language": "python",
   "name": "python3"
  },
  "language_info": {
   "codemirror_mode": {
    "name": "ipython",
    "version": 3
   },
   "file_extension": ".py",
   "mimetype": "text/x-python",
   "name": "python",
   "nbconvert_exporter": "python",
   "pygments_lexer": "ipython3",
   "version": "3.7.0"
  }
 },
 "nbformat": 4,
 "nbformat_minor": 2
}
