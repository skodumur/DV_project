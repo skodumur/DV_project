{
 "cells": [
  {
   "cell_type": "markdown",
   "metadata": {},
   "source": [
    "## Data Preprocessing ##"
   ]
  },
  {
   "cell_type": "code",
   "execution_count": 1,
   "metadata": {},
   "outputs": [],
   "source": [
    "import pandas as pd"
   ]
  },
  {
   "cell_type": "code",
   "execution_count": 2,
   "metadata": {},
   "outputs": [
    {
     "ename": "FileNotFoundError",
     "evalue": "File b'data.csv' does not exist",
     "output_type": "error",
     "traceback": [
      "\u001b[1;31m---------------------------------------------------------------------------\u001b[0m",
      "\u001b[1;31mFileNotFoundError\u001b[0m                         Traceback (most recent call last)",
      "\u001b[1;32m<ipython-input-2-bc367997880a>\u001b[0m in \u001b[0;36m<module>\u001b[1;34m\u001b[0m\n\u001b[1;32m----> 1\u001b[1;33m \u001b[0mdata\u001b[0m \u001b[1;33m=\u001b[0m \u001b[0mpd\u001b[0m\u001b[1;33m.\u001b[0m\u001b[0mread_csv\u001b[0m\u001b[1;33m(\u001b[0m\u001b[1;34m\"data.csv\"\u001b[0m\u001b[1;33m)\u001b[0m\u001b[1;33m\u001b[0m\u001b[1;33m\u001b[0m\u001b[0m\n\u001b[0m\u001b[0;32m      2\u001b[0m \u001b[0mdata\u001b[0m\u001b[1;33m.\u001b[0m\u001b[0mhead\u001b[0m\u001b[1;33m(\u001b[0m\u001b[1;33m)\u001b[0m\u001b[1;33m\u001b[0m\u001b[1;33m\u001b[0m\u001b[0m\n",
      "\u001b[1;32mc:\\program files\\python37\\lib\\site-packages\\pandas\\io\\parsers.py\u001b[0m in \u001b[0;36mparser_f\u001b[1;34m(filepath_or_buffer, sep, delimiter, header, names, index_col, usecols, squeeze, prefix, mangle_dupe_cols, dtype, engine, converters, true_values, false_values, skipinitialspace, skiprows, nrows, na_values, keep_default_na, na_filter, verbose, skip_blank_lines, parse_dates, infer_datetime_format, keep_date_col, date_parser, dayfirst, iterator, chunksize, compression, thousands, decimal, lineterminator, quotechar, quoting, escapechar, comment, encoding, dialect, tupleize_cols, error_bad_lines, warn_bad_lines, skipfooter, doublequote, delim_whitespace, low_memory, memory_map, float_precision)\u001b[0m\n\u001b[0;32m    676\u001b[0m                     skip_blank_lines=skip_blank_lines)\n\u001b[0;32m    677\u001b[0m \u001b[1;33m\u001b[0m\u001b[0m\n\u001b[1;32m--> 678\u001b[1;33m         \u001b[1;32mreturn\u001b[0m \u001b[0m_read\u001b[0m\u001b[1;33m(\u001b[0m\u001b[0mfilepath_or_buffer\u001b[0m\u001b[1;33m,\u001b[0m \u001b[0mkwds\u001b[0m\u001b[1;33m)\u001b[0m\u001b[1;33m\u001b[0m\u001b[1;33m\u001b[0m\u001b[0m\n\u001b[0m\u001b[0;32m    679\u001b[0m \u001b[1;33m\u001b[0m\u001b[0m\n\u001b[0;32m    680\u001b[0m     \u001b[0mparser_f\u001b[0m\u001b[1;33m.\u001b[0m\u001b[0m__name__\u001b[0m \u001b[1;33m=\u001b[0m \u001b[0mname\u001b[0m\u001b[1;33m\u001b[0m\u001b[1;33m\u001b[0m\u001b[0m\n",
      "\u001b[1;32mc:\\program files\\python37\\lib\\site-packages\\pandas\\io\\parsers.py\u001b[0m in \u001b[0;36m_read\u001b[1;34m(filepath_or_buffer, kwds)\u001b[0m\n\u001b[0;32m    438\u001b[0m \u001b[1;33m\u001b[0m\u001b[0m\n\u001b[0;32m    439\u001b[0m     \u001b[1;31m# Create the parser.\u001b[0m\u001b[1;33m\u001b[0m\u001b[1;33m\u001b[0m\u001b[1;33m\u001b[0m\u001b[0m\n\u001b[1;32m--> 440\u001b[1;33m     \u001b[0mparser\u001b[0m \u001b[1;33m=\u001b[0m \u001b[0mTextFileReader\u001b[0m\u001b[1;33m(\u001b[0m\u001b[0mfilepath_or_buffer\u001b[0m\u001b[1;33m,\u001b[0m \u001b[1;33m**\u001b[0m\u001b[0mkwds\u001b[0m\u001b[1;33m)\u001b[0m\u001b[1;33m\u001b[0m\u001b[1;33m\u001b[0m\u001b[0m\n\u001b[0m\u001b[0;32m    441\u001b[0m \u001b[1;33m\u001b[0m\u001b[0m\n\u001b[0;32m    442\u001b[0m     \u001b[1;32mif\u001b[0m \u001b[0mchunksize\u001b[0m \u001b[1;32mor\u001b[0m \u001b[0miterator\u001b[0m\u001b[1;33m:\u001b[0m\u001b[1;33m\u001b[0m\u001b[1;33m\u001b[0m\u001b[0m\n",
      "\u001b[1;32mc:\\program files\\python37\\lib\\site-packages\\pandas\\io\\parsers.py\u001b[0m in \u001b[0;36m__init__\u001b[1;34m(self, f, engine, **kwds)\u001b[0m\n\u001b[0;32m    785\u001b[0m             \u001b[0mself\u001b[0m\u001b[1;33m.\u001b[0m\u001b[0moptions\u001b[0m\u001b[1;33m[\u001b[0m\u001b[1;34m'has_index_names'\u001b[0m\u001b[1;33m]\u001b[0m \u001b[1;33m=\u001b[0m \u001b[0mkwds\u001b[0m\u001b[1;33m[\u001b[0m\u001b[1;34m'has_index_names'\u001b[0m\u001b[1;33m]\u001b[0m\u001b[1;33m\u001b[0m\u001b[1;33m\u001b[0m\u001b[0m\n\u001b[0;32m    786\u001b[0m \u001b[1;33m\u001b[0m\u001b[0m\n\u001b[1;32m--> 787\u001b[1;33m         \u001b[0mself\u001b[0m\u001b[1;33m.\u001b[0m\u001b[0m_make_engine\u001b[0m\u001b[1;33m(\u001b[0m\u001b[0mself\u001b[0m\u001b[1;33m.\u001b[0m\u001b[0mengine\u001b[0m\u001b[1;33m)\u001b[0m\u001b[1;33m\u001b[0m\u001b[1;33m\u001b[0m\u001b[0m\n\u001b[0m\u001b[0;32m    788\u001b[0m \u001b[1;33m\u001b[0m\u001b[0m\n\u001b[0;32m    789\u001b[0m     \u001b[1;32mdef\u001b[0m \u001b[0mclose\u001b[0m\u001b[1;33m(\u001b[0m\u001b[0mself\u001b[0m\u001b[1;33m)\u001b[0m\u001b[1;33m:\u001b[0m\u001b[1;33m\u001b[0m\u001b[1;33m\u001b[0m\u001b[0m\n",
      "\u001b[1;32mc:\\program files\\python37\\lib\\site-packages\\pandas\\io\\parsers.py\u001b[0m in \u001b[0;36m_make_engine\u001b[1;34m(self, engine)\u001b[0m\n\u001b[0;32m   1012\u001b[0m     \u001b[1;32mdef\u001b[0m \u001b[0m_make_engine\u001b[0m\u001b[1;33m(\u001b[0m\u001b[0mself\u001b[0m\u001b[1;33m,\u001b[0m \u001b[0mengine\u001b[0m\u001b[1;33m=\u001b[0m\u001b[1;34m'c'\u001b[0m\u001b[1;33m)\u001b[0m\u001b[1;33m:\u001b[0m\u001b[1;33m\u001b[0m\u001b[1;33m\u001b[0m\u001b[0m\n\u001b[0;32m   1013\u001b[0m         \u001b[1;32mif\u001b[0m \u001b[0mengine\u001b[0m \u001b[1;33m==\u001b[0m \u001b[1;34m'c'\u001b[0m\u001b[1;33m:\u001b[0m\u001b[1;33m\u001b[0m\u001b[1;33m\u001b[0m\u001b[0m\n\u001b[1;32m-> 1014\u001b[1;33m             \u001b[0mself\u001b[0m\u001b[1;33m.\u001b[0m\u001b[0m_engine\u001b[0m \u001b[1;33m=\u001b[0m \u001b[0mCParserWrapper\u001b[0m\u001b[1;33m(\u001b[0m\u001b[0mself\u001b[0m\u001b[1;33m.\u001b[0m\u001b[0mf\u001b[0m\u001b[1;33m,\u001b[0m \u001b[1;33m**\u001b[0m\u001b[0mself\u001b[0m\u001b[1;33m.\u001b[0m\u001b[0moptions\u001b[0m\u001b[1;33m)\u001b[0m\u001b[1;33m\u001b[0m\u001b[1;33m\u001b[0m\u001b[0m\n\u001b[0m\u001b[0;32m   1015\u001b[0m         \u001b[1;32melse\u001b[0m\u001b[1;33m:\u001b[0m\u001b[1;33m\u001b[0m\u001b[1;33m\u001b[0m\u001b[0m\n\u001b[0;32m   1016\u001b[0m             \u001b[1;32mif\u001b[0m \u001b[0mengine\u001b[0m \u001b[1;33m==\u001b[0m \u001b[1;34m'python'\u001b[0m\u001b[1;33m:\u001b[0m\u001b[1;33m\u001b[0m\u001b[1;33m\u001b[0m\u001b[0m\n",
      "\u001b[1;32mc:\\program files\\python37\\lib\\site-packages\\pandas\\io\\parsers.py\u001b[0m in \u001b[0;36m__init__\u001b[1;34m(self, src, **kwds)\u001b[0m\n\u001b[0;32m   1706\u001b[0m         \u001b[0mkwds\u001b[0m\u001b[1;33m[\u001b[0m\u001b[1;34m'usecols'\u001b[0m\u001b[1;33m]\u001b[0m \u001b[1;33m=\u001b[0m \u001b[0mself\u001b[0m\u001b[1;33m.\u001b[0m\u001b[0musecols\u001b[0m\u001b[1;33m\u001b[0m\u001b[1;33m\u001b[0m\u001b[0m\n\u001b[0;32m   1707\u001b[0m \u001b[1;33m\u001b[0m\u001b[0m\n\u001b[1;32m-> 1708\u001b[1;33m         \u001b[0mself\u001b[0m\u001b[1;33m.\u001b[0m\u001b[0m_reader\u001b[0m \u001b[1;33m=\u001b[0m \u001b[0mparsers\u001b[0m\u001b[1;33m.\u001b[0m\u001b[0mTextReader\u001b[0m\u001b[1;33m(\u001b[0m\u001b[0msrc\u001b[0m\u001b[1;33m,\u001b[0m \u001b[1;33m**\u001b[0m\u001b[0mkwds\u001b[0m\u001b[1;33m)\u001b[0m\u001b[1;33m\u001b[0m\u001b[1;33m\u001b[0m\u001b[0m\n\u001b[0m\u001b[0;32m   1709\u001b[0m \u001b[1;33m\u001b[0m\u001b[0m\n\u001b[0;32m   1710\u001b[0m         \u001b[0mpassed_names\u001b[0m \u001b[1;33m=\u001b[0m \u001b[0mself\u001b[0m\u001b[1;33m.\u001b[0m\u001b[0mnames\u001b[0m \u001b[1;32mis\u001b[0m \u001b[1;32mNone\u001b[0m\u001b[1;33m\u001b[0m\u001b[1;33m\u001b[0m\u001b[0m\n",
      "\u001b[1;32mpandas\\_libs\\parsers.pyx\u001b[0m in \u001b[0;36mpandas._libs.parsers.TextReader.__cinit__\u001b[1;34m()\u001b[0m\n",
      "\u001b[1;32mpandas\\_libs\\parsers.pyx\u001b[0m in \u001b[0;36mpandas._libs.parsers.TextReader._setup_parser_source\u001b[1;34m()\u001b[0m\n",
      "\u001b[1;31mFileNotFoundError\u001b[0m: File b'data.csv' does not exist"
     ]
    }
   ],
   "source": [
    "data = pd.read_csv(\"data.csv\")\n",
    "data.head()"
   ]
  },
  {
   "cell_type": "code",
   "execution_count": 3,
   "metadata": {},
   "outputs": [
    {
     "data": {
      "text/plain": [
       "'F6F8B460-4204-4C26-A32C-B93826EDCB99'"
      ]
     },
     "execution_count": 3,
     "metadata": {},
     "output_type": "execute_result"
    }
   ],
   "source": [
    "s = \"{F6F8B460-4204-4C26-A32C-B93826EDCB99}\"\n",
    "s[1: -1]"
   ]
  },
  {
   "cell_type": "code",
   "execution_count": 4,
   "metadata": {},
   "outputs": [],
   "source": [
    "session = {}\n",
    "products = {}\n",
    "for index, row in data.iterrows():\n",
    "    if(row['MAC'][1:-1] in session.keys()):\n",
    "        session[row['MAC'][1:-1]].append(row['URL_ID'])\n",
    "    else:\n",
    "        session[row['MAC'][1:-1]] = [row['URL_ID']]\n",
    "    if(row['URL_ID'] not in products.keys()):\n",
    "        products[row['URL_ID']] = [row[\"Product\"], row[\"Website\"]]"
   ]
  },
  {
   "cell_type": "code",
   "execution_count": 5,
   "metadata": {},
   "outputs": [
    {
     "name": "stdout",
     "output_type": "stream",
     "text": [
      "12348\n",
      "10893\n"
     ]
    }
   ],
   "source": [
    "def save_dict_to_file(dic, file):\n",
    "    f = open(file,'w')\n",
    "    f.write(str(dic))\n",
    "    f.close()\n",
    "# save_dict_to_file(session, \"dict.txt\")\n",
    "print(len(session))\n",
    "final_dict = {key: session[key] for key in session if len(session[key])!=1}\n",
    "print(len(final_dict))\n",
    "key_to_value_lengths = {k:v for k, v in final_dict.items() if v.count(v[0])==len(v)}\n",
    "for i in key_to_value_lengths.keys():\n",
    "    del final_dict[i]"
   ]
  },
  {
   "cell_type": "code",
   "execution_count": 6,
   "metadata": {},
   "outputs": [],
   "source": [
    "sessions = list(final_dict.values())\n",
    "sessionremoved = list(key_to_value_lengths.values())\n",
    "\n",
    "import  csv\n",
    "with open(\"dict_new.txt\",\"w\") as f:\n",
    "    wr = csv.writer(f)\n",
    "    wr.writerows(sessions)\n",
    "    \n",
    "with open(\"dict_removed.txt\",\"w\") as f:\n",
    "    wr = csv.writer(f)\n",
    "    wr.writerows(sessionremoved)\n",
    "# save_dict_to_file(final_dict, \"dict_new.txt\")\n",
    "\n",
    "readd = open(\"dict_new.txt\", \"r\")\n",
    "contents = readd.read()\n",
    "contentsnew = contents.replace(\",\", \" \")\n",
    "contentsnew = contentsnew.replace(\"\\n\\n\", \" -1 -2\\n\")\n",
    "newfile = open(\"save_dict.txt\", \"w\")\n",
    "newfile.write(contentsnew)\n",
    "newfile.close()"
   ]
  },
  {
   "cell_type": "markdown",
   "metadata": {},
   "source": [
    "## Pattern View Data ##"
   ]
  },
  {
   "cell_type": "code",
   "execution_count": 7,
   "metadata": {},
   "outputs": [],
   "source": [
    "with open(\"op4.txt\", \"r\") as f:\n",
    "    contents = f.readlines()"
   ]
  },
  {
   "cell_type": "code",
   "execution_count": 8,
   "metadata": {},
   "outputs": [
    {
     "name": "stdout",
     "output_type": "stream",
     "text": [
      "['27']\n",
      "['13']\n",
      "['12']\n",
      "['8', '27']\n",
      "['4', '9']\n",
      "['2', '9']\n",
      "['3', '4']\n",
      "['5', '8', '9']\n",
      "['2', '7', '8']\n",
      "['2', '4', '7']\n",
      "['2', '4', '5']\n",
      "['6', '7', '8', '9']\n",
      "['5', '6', '7', '9']\n",
      "['5', '6', '7', '8']\n",
      "['4', '6', '7', '8']\n",
      "['4', '5', '7', '8']\n",
      "['4', '5', '6', '8']\n",
      "['4', '5', '6', '7']\n",
      "['2', '5', '6', '7']\n",
      "[0, 1, 2]\n",
      "16\n",
      "=================Final json=======================\n"
     ]
    }
   ],
   "source": [
    "finalList = []\n",
    "for s in contents:\n",
    "    result = s.split(\"-1\")\n",
    "    pattern = result[0]\n",
    "    support = result[1]\n",
    "    s = \"\"\n",
    "    lastStr = \"-1 #SUP: \"\n",
    "    pattern = pattern.strip().split(\" \")\n",
    "    print(pattern)\n",
    "    patternList = []\n",
    "    with open(\"save_dict.txt\", \"r\") as clicksfile:\n",
    "        clicksdata = clicksfile.readlines()\n",
    "    for i in range(0,len(pattern)):\n",
    "        if pattern[i]!=\" \":\n",
    "            s = pattern[i] if s==\"\" else s + \" \" + pattern[i]\n",
    "            with open(\"op\"+str(i+1)+\".txt\", \"r\") as file:\n",
    "                superfile = file.readlines()\n",
    "            stringToBeFound = s+\" \"\n",
    "            stringToBeFound = stringToBeFound + lastStr\n",
    "            matching = [x for x in superfile if x.startswith(stringToBeFound)]\n",
    "            averageclicks = 0\n",
    "            if i==0:\n",
    "                supports = int(matching[0].split(\":\")[1])\n",
    "            else:\n",
    "                supports = int(matching[0].split(\"#\")[1].split(\":\")[1])\n",
    "                indexlist = matching[0].split(\"#\")[2]\n",
    "                clickpages = indexlist.split(\":\")[1].split(\" \")[1:]\n",
    "                for k in clickpages:\n",
    "                    clickstring = clicksdata[int(k)].replace(\" \",\"\")\n",
    "                    averageclicks = averageclicks+clickstring[clickstring.find(pattern[i-1]):].find(pattern[i])\n",
    "                averageclicks = averageclicks/len(clickpages)\n",
    "            supportsdict = {\"id\": pattern[i], \"label\": products[int(pattern[i])][0], \"value\": int(averageclicks), \"width\": supports, \"backgroundColor\":\"#898d8f\"}\n",
    "            patternList.append(supportsdict)\n",
    "    finalList.append(patternList)\n",
    "\n",
    "for i in finalList:\n",
    "    if(len(i)>1):\n",
    "        for j in range(1,len(i)):\n",
    "            i[j-1][\"value\"] = i[j][\"value\"]\n",
    "        i[j][\"value\"] = 0\n",
    "\n",
    "\n",
    "ind2remove = [i for i in range(len(finalList)) if len(finalList[i])==1]\n",
    "print(ind2remove)\n",
    "for i in sorted(ind2remove, reverse=True): \n",
    "    del finalList[i]\n",
    "print(len(finalList))\n",
    "print(\"=================Final json=======================\")\n",
    "newList = [finalList] \n",
    "with open(\"patterns.json\", \"w\") as patternFile:\n",
    "    for item in newList:\n",
    "        patternFile.write(\"%s\\n\" % item)"
   ]
  },
  {
   "cell_type": "markdown",
   "metadata": {},
   "source": [
    "## Sequence View Data ##"
   ]
  },
  {
   "cell_type": "code",
   "execution_count": 24,
   "metadata": {},
   "outputs": [],
   "source": [
    "with open(\"op4.txt\", \"r\") as f:\n",
    "    contents = f.readlines()"
   ]
  },
  {
   "cell_type": "code",
   "execution_count": 29,
   "metadata": {},
   "outputs": [],
   "source": [
    "with open(\"op4.txt\", \"r\") as file:\n",
    "    sequenceFile = file.readlines()\n",
    "with open(\"save_dict.txt\", \"r\") as clicksfile:\n",
    "    clicksdata = clicksfile.readlines()\n",
    "for a in range(len(finalList)):\n",
    "    s = \"\"\n",
    "    patternsList = []\n",
    "    for i in finalList[a]:\n",
    "        s = s + \" \" + i[\"id\"]\n",
    "    sequences = [x for x in sequenceFile if s.strip() in x][0].split(\": \")[2].split(\" \")\n",
    "    superSets = [x for x in sequenceFile if s.strip() in x][0].split(\": \")[1].split(\" \")[0]\n",
    "    sequences = [int(x) for x in sequences]\n",
    "    patterns = [clicksdata[i] for i in range(len(clicksdata)) if i in sequences]\n",
    "    for i in patterns:\n",
    "        temp = i[:-7].split(\" \")\n",
    "        tempDict = []\n",
    "        for j in temp:\n",
    "            tempDict.append(products[int(j)][1])\n",
    "        patternsList.append(tempDict)\n",
    "    sequenceList = {}\n",
    "    sequenceList['urls'] = patternsList\n",
    "    import json\n",
    "    with open(\"sequences\"+ str(a) + \".json\", \"w\") as sequenceFile1:\n",
    "        sequenceFile1.write(json.dumps(sequenceList))"
   ]
  },
  {
   "cell_type": "markdown",
   "metadata": {},
   "source": [
    "## Finding number of visitors ##"
   ]
  },
  {
   "cell_type": "code",
   "execution_count": null,
   "metadata": {},
   "outputs": [],
   "source": []
  }
 ],
 "metadata": {
  "kernelspec": {
   "display_name": "Python 3",
   "language": "python",
   "name": "python3"
  },
  "language_info": {
   "codemirror_mode": {
    "name": "ipython",
    "version": 3
   },
   "file_extension": ".py",
   "mimetype": "text/x-python",
   "name": "python",
   "nbconvert_exporter": "python",
   "pygments_lexer": "ipython3",
   "version": "3.7.1rc1"
  }
 },
 "nbformat": 4,
 "nbformat_minor": 2
}
